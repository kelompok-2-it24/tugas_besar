{
  "cells": [
    {
      "cell_type": "markdown",
      "metadata": {
        "id": "RC92zyXAb_Kr"
      },
      "source": [
        "#Mount Google Drive dan Load Dataset"
      ]
    },
    {
      "cell_type": "code",
      "execution_count": null,
      "metadata": {
        "id": "s8QGDEIoUZyw",
        "colab": {
          "base_uri": "https://localhost:8080/"
        },
        "outputId": "6c3d8283-33b0-4479-ad2e-23d490de3c7f"
      },
      "outputs": [
        {
          "output_type": "stream",
          "name": "stdout",
          "text": [
            "Drive already mounted at /content/drive; to attempt to forcibly remount, call drive.mount(\"/content/drive\", force_remount=True).\n"
          ]
        }
      ],
      "source": [
        "from google.colab import drive\n",
        "drive.mount('/content/drive')\n"
      ]
    },
    {
      "cell_type": "code",
      "source": [
        "import pandas as pd\n",
        "\n",
        "# Baca file tempat_cleaned.csv\n",
        "df_tempat = pd.read_csv('/content/drive/MyDrive/data_oleh_oleh/tempat_cleaned.csv', sep=';')\n",
        "\n",
        "# Normalisasi kolom\n",
        "df_tempat.columns = df_tempat.columns.str.strip().str.lower().str.replace(\" \", \"_\")\n",
        "\n",
        "# 🔧 Buat id_tempat baru berbasis nama_toko unik\n",
        "df_tempat['id_tempat'] = df_tempat['nama_toko'].astype('category').cat.codes + 1\n",
        "df_tempat['id_tempat'] = 'T' + df_tempat['id_tempat'].astype(str).str.zfill(3)\n",
        "\n",
        "# Simpan ulang hasil ke CSV jika perlu\n",
        "df_tempat.to_csv('/content/drive/MyDrive/data_oleh_oleh/tempat_cleaned_fixed.csv', index=False)\n",
        "\n",
        "# ✅ Cek ulang hasil\n",
        "print(\"📌 Jumlah toko unik:\", df_tempat['nama_toko'].nunique())\n",
        "print(\"📌 Jumlah ID Tempat unik:\", df_tempat['id_tempat'].nunique())\n",
        "print(\"📋 Toko dan ID Tempat:\")\n",
        "print(df_tempat[['id_tempat', 'nama_toko']].drop_duplicates().reset_index(drop=True))\n"
      ],
      "metadata": {
        "colab": {
          "base_uri": "https://localhost:8080/"
        },
        "id": "tAoxGXp5G2bq",
        "outputId": "f1cb12ab-da49-46d2-dcd5-e93cb3c737d9"
      },
      "execution_count": null,
      "outputs": [
        {
          "output_type": "stream",
          "name": "stdout",
          "text": [
            "📌 Jumlah toko unik: 15\n",
            "📌 Jumlah ID Tempat unik: 15\n",
            "📋 Toko dan ID Tempat:\n",
            "   id_tempat                      nama_toko\n",
            "0       T010                 kaokanako shop\n",
            "1       T013             pesona etnik papua\n",
            "2       T002                   billy bakery\n",
            "3       T001              abon gulung pawai\n",
            "4       T012           oleh-oleh khas papua\n",
            "5       T003           billy bakery bandara\n",
            "6       T015  toko souvenir khas raja ampat\n",
            "7       T005                 cendrawasi art\n",
            "8       T009        icon raja ampat premium\n",
            "9       T008                icon raja ampat\n",
            "10      T007                     fira papua\n",
            "11      T011         keripik keladi karmina\n",
            "12      T004           billy bakrie bandara\n",
            "13      T006                cyclop art shop\n",
            "14      T014         toko siendara souvenir\n"
          ]
        }
      ]
    },
    {
      "cell_type": "code",
      "source": [
        "# Asumsikan df_tempat sudah diperbaiki\n",
        "rows = []\n",
        "\n",
        "for _, row in df_tempat.iterrows():\n",
        "    if pd.isna(row['gambar']):\n",
        "        continue\n",
        "    gambar_list = [g.strip() for g in row['gambar'].split(\";\") if g.strip()]\n",
        "\n",
        "    for img in gambar_list:\n",
        "        rows.append({\n",
        "            \"nama_toko\": row['nama_toko'],\n",
        "            \"jenis_produk\": row['jenis_produk'],\n",
        "            \"rating\": row['rating'],\n",
        "            \"id_tempat\": row['id_tempat'],\n",
        "            \"image_name\": img.lower()\n",
        "        })\n",
        "\n",
        "df_images = pd.DataFrame(rows)\n",
        "df_images.to_csv('/content/drive/MyDrive/data_oleh_oleh/image_labels_cleaned.csv', index=False)\n",
        "print(\"✔️ image_labels_cleaned.csv berhasil dibuat.\")\n",
        "print(f\"📊 Total baris gambar: {len(df_images)}\")\n",
        "print(f\"🏪 Total toko unik: {df_images['nama_toko'].nunique()}\")\n",
        "user_rating_data = \"\"\"user_id,tempat_id,rating\n",
        "1,T001,4\n",
        "1,T002,5\n",
        "2,T003,4\n",
        "2,T004,5\n",
        "3,T005,3\n",
        "3,T006,4\n",
        "\"\"\"\n",
        "\n",
        "with open('/content/drive/MyDrive/data_oleh_oleh/user_rating_cleaned.csv', 'w') as f:\n",
        "    f.write(user_rating_data)\n",
        "\n",
        "print(\"✔️ user_rating_cleaned.csv berhasil diperbarui.\")\n"
      ],
      "metadata": {
        "colab": {
          "base_uri": "https://localhost:8080/"
        },
        "id": "OUppbzm6HOa_",
        "outputId": "d30232bc-c76c-4780-98d6-d1ad60e0506a"
      },
      "execution_count": null,
      "outputs": [
        {
          "output_type": "stream",
          "name": "stdout",
          "text": [
            "✔️ image_labels_cleaned.csv berhasil dibuat.\n",
            "📊 Total baris gambar: 273600\n",
            "🏪 Total toko unik: 15\n",
            "✔️ user_rating_cleaned.csv berhasil diperbarui.\n"
          ]
        }
      ]
    },
    {
      "cell_type": "code",
      "execution_count": null,
      "metadata": {
        "colab": {
          "base_uri": "https://localhost:8080/"
        },
        "id": "3A3MK4b_aGou",
        "outputId": "08c35686-71ff-4414-f66d-ec245eda2cd4"
      },
      "outputs": [
        {
          "output_type": "stream",
          "name": "stdout",
          "text": [
            "✔️ image_labels_cleaned.csv berhasil dibuat.\n",
            "📊 Total baris gambar: 273600\n",
            "🏪 Total toko unik: 2\n"
          ]
        }
      ],
      "source": [
        "import pandas as pd\n",
        "import os\n",
        "\n",
        "# Path utama dataset\n",
        "path = '/content/drive/MyDrive/data_oleh_oleh'\n",
        "\n",
        "# Baca file tempat\n",
        "df_tempat = pd.read_csv(f'{path}/tempat_cleaned.csv', sep=';')\n",
        "\n",
        "# Normalisasi kolom\n",
        "df_tempat.columns = df_tempat.columns.str.strip().str.lower().str.replace(\" \", \"_\")\n",
        "\n",
        "# Validasi kolom penting\n",
        "assert 'gambar' in df_tempat.columns, \"❌ Kolom 'gambar' tidak ditemukan!\"\n",
        "assert 'id_tempat' in df_tempat.columns, \"❌ Kolom 'id_tempat' tidak ditemukan!\"\n",
        "\n",
        "# Uraikan gambar menjadi baris per gambar\n",
        "rows = []\n",
        "for _, row in df_tempat.iterrows():\n",
        "    if pd.isna(row['gambar']):\n",
        "        continue\n",
        "    gambar_list = [g.strip().lower() for g in row['gambar'].split(\";\") if g.strip()]\n",
        "    for img in gambar_list:\n",
        "        rows.append({\n",
        "            \"nama_toko\": row['nama_toko'],\n",
        "            \"jenis_produk\": row['jenis_produk'],\n",
        "            \"rating\": row['rating'],\n",
        "            \"id_tempat\": row['id_tempat'],\n",
        "            \"image_name\": img\n",
        "        })\n",
        "\n",
        "# Simpan\n",
        "df_images = pd.DataFrame(rows)\n",
        "df_images.to_csv(f'{path}/image_labels_cleaned.csv', index=False)\n",
        "print(\"✔️ image_labels_cleaned.csv berhasil dibuat.\")\n",
        "print(f\"📊 Total baris gambar: {len(df_images)}\")\n",
        "print(f\"🏪 Total toko unik: {df_images['id_tempat'].nunique()}\")\n"
      ]
    },
    {
      "cell_type": "code",
      "execution_count": null,
      "metadata": {
        "colab": {
          "base_uri": "https://localhost:8080/"
        },
        "id": "b9e2a06d",
        "outputId": "675d8d96-7431-4566-a1b4-1efd2b2ea56a"
      },
      "outputs": [
        {
          "output_type": "stream",
          "name": "stdout",
          "text": [
            "﻿nama_toko;jenis produk;rating;id_tempat;gambar\n",
            "\n",
            "kaokanako shop;souvenir;4;2;\"noken1.jpg; noken2.jpg; noken3.jpg; noken4.jpg; noken5.jpg; noken6.jpg; noken7.jpg; noken8.jpg; noken9.jpg; noken10.jpg; noken11.jpg; noken12.jpg; noken13.jpg; noken14.jpg; noken15.jpg; noken16.jpg; noken17.jpg; noken18.jpg; noken19.jpg; noken20.jpg; noken21.jpg; noken22.jpg; noken23.jpg; noken24.jpg; noken25.jpg; noken26.jpg; noken27.jpg; noken28.jpg; noken29.jpg; noken30.jpg; noken31.jpg; noken32.jpg; noken33.jpg; noken34.jpg; noken35.jpg; noken36.jpg; noken37.jpg; noken38.jpg; noken39.jpg; noken40.jpg; noken41.jpg; noken42.jpg; noken43.jpg; noken44.jpg; noken45.jpg; noken46.jpg; noken47.jpg; noken48.jpg; noken49.jpg; noken50.jpg; noken51.jpg; noken52.jpg; noken53.jpg; noken54.jpg; noken55.jpg; noken56.jpg; noken57.jpg; noken58.jpg; noken59.jpg; noken60.jpg; noken61.jpg; noken62.jpg; noken63.jpg; noken64.jpg; noken65.jpg; noken66.jpg; noken67.jpg; noken68.jpg; noken69.jpg; noken70.jpg; noken71.jpg; noken72.jpg; noken73.jpg; noken74.jpg; noken75.jpg; noken76.jpg; noken77.jpg; noken78.jpg; noken79.jpg; noken80.jpg; noken81.jpg; noken82.jpg; noken83.jpg; noken84.jpg; noken85.jpg; noken86.jpg; noken87.jpg; noken88.jpg; noken89.jpg; noken90.jpg; noken91.jpg; noken92.jpg; noken93.jpg; noken94.jpg; noken95.jpg; noken96.jpg; noken97.jpg; noken98.jpg; noken99.jpg; noken100.jpg; noken101.jpg; noken102.jpg; noken103.jpg; noken104.jpg; noken105.jpg; noken106.jpg; noken107.jpg; noken108.jpg; noken109.jpg; noken110.jpg; noken111.jpg; noken112.jpg; noken113.jpg; noken114.jpg; noken115.jpg; noken116.jpg; noken117.jpg; noken118.jpg; noken119.jpg; noken120.jpg; noken121.jpg; noken122.jpg; noken123.jpg; noken124.jpg; noken125.jpg; noken126.jpg; noken127.jpg; noken128.jpg; noken129.jpg; noken130.jpg; noken131.jpg; noken132.jpg; noken133.jpg; noken134.jpg; noken135.jpg; noken136.jpg; noken137.jpg; noken138.jpg; noken139.jpg; noken140.jpg; noken141.jpg; noken142.jpg; noken143.jpg; noken144.jpg; noken145.jpg; noken146.jpg; noken147.jpg; noken148.jpg; noken149.jpg; noken150.jpg; noken151.jpg; noken152.jpg; noken153.jpg; noken154.jpg; noken155.jpg; noken156.jpg; noken157.jpg; noken158.jpg; noken159.jpg; noken160.jpg; noken161.jpg; noken162.jpg; noken163.jpg; noken164.jpg; noken165.jpg; noken166.jpg; noken167.jpg; noken168.jpg; noken169.jpg; noken170.jpg; noken171.jpg; noken172.jpg; noken173.jpg; noken174.jpg; noken175.jpg; noken176.jpg; noken177.jpg; noken178.jpg; noken179.jpg; noken180.jpg; noken181.jpg; noken182.jpg; noken183.jpg; noken184.jpg; noken185.jpg; noken186.jpg; noken187.jpg; noken188.jpg; noken189.jpg; noken190.jpg; noken191.jpg; noken192.jpg; noken193.jpg; noken194.jpg; noken195.jpg; noken196.jpg; noken197.jpg; noken198.jpg; noken199.jpg; noken200.jpg; noken201.jpg; noken202.jpg; noken203.jpg; noken204.jpg; noken205.jpg; noken206.jpg; noken207.jpg; noken208.jpg; noken209.jpg; noken210.jpg; noken211.jpg; noken212.jpg; noken213.jpg; noken214.jpg; noken215.jpg; noken216.jpg; noken217.jpg; noken218.jpg; noken219.jpg; noken220.jpg; noken221.jpg; noken222.jpg; noken223.jpg; noken224.jpg; noken225.jpg; noken226.jpg; noken227.jpg; noken228.jpg; noken229.jpg; noken230.jpg; noken231.jpg; noken232.jpg; noken233.jpg; noken234.jpg; noken235.jpg; noken236.jpg; noken237.jpg; noken238.jpg; noken239.jpg; noken240.jpg; noken241.jpg; noken242.jpg; noken243.jpg; noken244.jpg; noken245.jpg; noken246.jpg; noken247.jpg; noken248.jpg; noken249.jpg; noken250.jpg; noken251.jpg; noken252.jpg; noken253.jpg; noken254.jpg; noken255.jpg; noken256.jpg; noken257.jpg; noken258.jpg; noken259.jpg; noken260.jpg; noken261.jpg; noken262.jpg; noken263.jpg; noken264.jpg; noken265.jpg; noken266.jpg; noken267.jpg; noken268.jpg; noken269.jpg; noken270.jpg; noken271.jpg; noken272.jpg; noken273.jpg; noken274.jpg; noken275.jpg; noken276.jpg; noken277.jpg; noken278.jpg; noken279.jpg; noken280.jpg; noken281.jpg; noken282.jpg; noken283.jpg; noken284.jpg; noken285.jpg; noken286.jpg; noken287.jpg; noken288.jpg; noken289.jpg; noken290.jpg; noken291.jpg; noken292.jpg; noken293.jpg; noken294.jpg; noken295.jpg; noken296.jpg; noken297.jpg; noken298.jpg; noken299.jpg; noken300.jpg\"\n",
            "\n",
            "pesona etnik papua;souvenir;5;2;\"noken1.jpg; noken2.jpg; noken3.jpg; noken4.jpg; noken5.jpg; noken6.jpg; noken7.jpg; noken8.jpg; noken9.jpg; noken10.jpg; noken11.jpg; noken12.jpg; noken13.jpg; noken14.jpg; noken15.jpg; noken16.jpg; noken17.jpg; noken18.jpg; noken19.jpg; noken20.jpg; noken21.jpg; noken22.jpg; noken23.jpg; noken24.jpg; noken25.jpg; noken26.jpg; noken27.jpg; noken28.jpg; noken29.jpg; noken30.jpg; noken31.jpg; noken32.jpg; noken33.jpg; noken34.jpg; noken35.jpg; noken36.jpg; noken37.jpg; noken38.jpg; noken39.jpg; noken40.jpg; noken41.jpg; noken42.jpg; noken43.jpg; noken44.jpg; noken45.jpg; noken46.jpg; noken47.jpg; noken48.jpg; noken49.jpg; noken50.jpg; noken51.jpg; noken52.jpg; noken53.jpg; noken54.jpg; noken55.jpg; noken56.jpg; noken57.jpg; noken58.jpg; noken59.jpg; noken60.jpg; noken61.jpg; noken62.jpg; noken63.jpg; noken64.jpg; noken65.jpg; noken66.jpg; noken67.jpg; noken68.jpg; noken69.jpg; noken70.jpg; noken71.jpg; noken72.jpg; noken73.jpg; noken74.jpg; noken75.jpg; noken76.jpg; noken77.jpg; noken78.jpg; noken79.jpg; noken80.jpg; noken81.jpg; noken82.jpg; noken83.jpg; noken84.jpg; noken85.jpg; noken86.jpg; noken87.jpg; noken88.jpg; noken89.jpg; noken90.jpg; noken91.jpg; noken92.jpg; noken93.jpg; noken94.jpg; noken95.jpg; noken96.jpg; noken97.jpg; noken98.jpg; noken99.jpg; noken100.jpg; noken101.jpg; noken102.jpg; noken103.jpg; noken104.jpg; noken105.jpg; noken106.jpg; noken107.jpg; noken108.jpg; noken109.jpg; noken110.jpg; noken111.jpg; noken112.jpg; noken113.jpg; noken114.jpg; noken115.jpg; noken116.jpg; noken117.jpg; noken118.jpg; noken119.jpg; noken120.jpg; noken121.jpg; noken122.jpg; noken123.jpg; noken124.jpg; noken125.jpg; noken126.jpg; noken127.jpg; noken128.jpg; noken129.jpg; noken130.jpg; noken131.jpg; noken132.jpg; noken133.jpg; noken134.jpg; noken135.jpg; noken136.jpg; noken137.jpg; noken138.jpg; noken139.jpg; noken140.jpg; noken141.jpg; noken142.jpg; noken143.jpg; noken144.jpg; noken145.jpg; noken146.jpg; noken147.jpg; noken148.jpg; noken149.jpg; noken150.jpg; noken151.jpg; noken152.jpg; noken153.jpg; noken154.jpg; noken155.jpg; noken156.jpg; noken157.jpg; noken158.jpg; noken159.jpg; noken160.jpg; noken161.jpg; noken162.jpg; noken163.jpg; noken164.jpg; noken165.jpg; noken166.jpg; noken167.jpg; noken168.jpg; noken169.jpg; noken170.jpg; noken171.jpg; noken172.jpg; noken173.jpg; noken174.jpg; noken175.jpg; noken176.jpg; noken177.jpg; noken178.jpg; noken179.jpg; noken180.jpg; noken181.jpg; noken182.jpg; noken183.jpg; noken184.jpg; noken185.jpg; noken186.jpg; noken187.jpg; noken188.jpg; noken189.jpg; noken190.jpg; noken191.jpg; noken192.jpg; noken193.jpg; noken194.jpg; noken195.jpg; noken196.jpg; noken197.jpg; noken198.jpg; noken199.jpg; noken200.jpg; noken201.jpg; noken202.jpg; noken203.jpg; noken204.jpg; noken205.jpg; noken206.jpg; noken207.jpg; noken208.jpg; noken209.jpg; noken210.jpg; noken211.jpg; noken212.jpg; noken213.jpg; noken214.jpg; noken215.jpg; noken216.jpg; noken217.jpg; noken218.jpg; noken219.jpg; noken220.jpg; noken221.jpg; noken222.jpg; noken223.jpg; noken224.jpg; noken225.jpg; noken226.jpg; noken227.jpg; noken228.jpg; noken229.jpg; noken230.jpg; noken231.jpg; noken232.jpg; noken233.jpg; noken234.jpg; noken235.jpg; noken236.jpg; noken237.jpg; noken238.jpg; noken239.jpg; noken240.jpg; noken241.jpg; noken242.jpg; noken243.jpg; noken244.jpg; noken245.jpg; noken246.jpg; noken247.jpg; noken248.jpg; noken249.jpg; noken250.jpg; noken251.jpg; noken252.jpg; noken253.jpg; noken254.jpg; noken255.jpg; noken256.jpg; noken257.jpg; noken258.jpg; noken259.jpg; noken260.jpg; noken261.jpg; noken262.jpg; noken263.jpg; noken264.jpg; noken265.jpg; noken266.jpg; noken267.jpg; noken268.jpg; noken269.jpg; noken270.jpg; noken271.jpg; noken272.jpg; noken273.jpg; noken274.jpg; noken275.jpg; noken276.jpg; noken277.jpg; noken278.jpg; noken279.jpg; noken280.jpg; noken281.jpg; noken282.jpg; noken283.jpg; noken284.jpg; noken285.jpg; noken286.jpg; noken287.jpg; noken288.jpg; noken289.jpg; noken290.jpg; noken291.jpg; noken292.jpg; noken293.jpg; noken294.jpg; noken295.jpg; noken296.jpg; noken297.jpg; noken298.jpg; noken299.jpg; noken300.jpg\"\n",
            "\n",
            "billy bakery;oleh-oleh;5;1;\"abon_gulung1.jpg; abon_gulung2.jpg; abon_gulung3.jpg; abon_gulung4.jpg; abon_gulung5.jpg; abon_gulung6.jpg; abon_gulung7.jpg; abon_gulung8.jpg; abon_gulung9.jpg; abon_gulung10.jpg; abon_gulung11.jpg; abon_gulung12.jpg; abon_gulung13.jpg; abon_gulung14.jpg; abon_gulung15.jpg; abon_gulung16.jpg; abon_gulung17.jpg; abon_gulung18.jpg; abon_gulung19.jpg; abon_gulung20.jpg; abon_gulung21.jpg; abon_gulung22.jpg; abon_gulung23.jpg; abon_gulung24.jpg; abon_gulung25.jpg; abon_gulung26.jpg; abon_gulung27.jpg; abon_gulung28.jpg; abon_gulung29.jpg; abon_gulung30.jpg; abon_gulung31.jpg; abon_gulung32.jpg; abon_gulung33.jpg; abon_gulung34.jpg; abon_gulung35.jpg; abon_gulung36.jpg; abon_gulung37.jpg; abon_gulung38.jpg; abon_gulung39.jpg; abon_gulung40.jpg; abon_gulung41.jpg; abon_gulung42.jpg; abon_gulung43.jpg; abon_gulung44.jpg; abon_gulung45.jpg; abon_gulung46.jpg; abon_gulung47.jpg; abon_gulung48.jpg; abon_gulung49.jpg; abon_gulung50.jpg; abon_gulung51.jpg; abon_gulung52.jpg; abon_gulung53.jpg; abon_gulung54.jpg; abon_gulung55.jpg; abon_gulung56.jpg; abon_gulung57.jpg; abon_gulung58.jpg; abon_gulung59.jpg; abon_gulung60.jpg; abon_gulung61.jpg; abon_gulung62.jpg; abon_gulung63.jpg; abon_gulung64.jpg; abon_gulung65.jpg; abon_gulung66.jpg; abon_gulung67.jpg; abon_gulung68.jpg; abon_gulung69.jpg; abon_gulung70.jpg; abon_gulung71.jpg; abon_gulung72.jpg; abon_gulung73.jpg; abon_gulung74.jpg; abon_gulung75.jpg; abon_gulung76.jpg; abon_gulung77.jpg; abon_gulung78.jpg; abon_gulung79.jpg; abon_gulung80.jpg; abon_gulung81.jpg; abon_gulung82.jpg; abon_gulung83.jpg; abon_gulung84.jpg; abon_gulung85.jpg; abon_gulung86.jpg; abon_gulung87.jpg; abon_gulung88.jpg; abon_gulung89.jpg; abon_gulung90.jpg; abon_gulung91.jpg; abon_gulung92.jpg; abon_gulung93.jpg; abon_gulung94.jpg; abon_gulung95.jpg; abon_gulung96.jpg; abon_gulung97.jpg; abon_gulung98.jpg; abon_gulung99.jpg; abon_gulung100.jpg; abon_gulung101.jpg; abon_gulung102.jpg; abon_gulung103.jpg; abon_gulung104.jpg; abon_gulung105.jpg; abon_gulung106.jpg; abon_gulung107.jpg; abon_gulung108.jpg; abon_gulung109.jpg; abon_gulung110.jpg; abon_gulung111.jpg; abon_gulung112.jpg; abon_gulung113.jpg; abon_gulung114.jpg; abon_gulung115.jpg; abon_gulung116.jpg; abon_gulung117.jpg; abon_gulung118.jpg; abon_gulung119.jpg; abon_gulung120.jpg; abon_gulung121.jpg; abon_gulung122.jpg; abon_gulung123.jpg; abon_gulung124.jpg; abon_gulung125.jpg; abon_gulung126.jpg; abon_gulung127.jpg; abon_gulung128.jpg; abon_gulung129.jpg; abon_gulung130.jpg; abon_gulung131.jpg; abon_gulung132.jpg; abon_gulung133.jpg; abon_gulung134.jpg; abon_gulung135.jpg; abon_gulung136.jpg; abon_gulung137.jpg; abon_gulung138.jpg; abon_gulung139.jpg; abon_gulung140.jpg; abon_gulung141.jpg; abon_gulung142.jpg; abon_gulung143.jpg; abon_gulung144.jpg; abon_gulung145.jpg; abon_gulung146.jpg; abon_gulung147.jpg; abon_gulung148.jpg; abon_gulung149.jpg; abon_gulung150.jpg; abon_gulung151.jpg; abon_gulung152.jpg; abon_gulung153.jpg; abon_gulung154.jpg; abon_gulung155.jpg; abon_gulung156.jpg; abon_gulung157.jpg; abon_gulung158.jpg; abon_gulung159.jpg; abon_gulung160.jpg; abon_gulung161.jpg; abon_gulung162.jpg; abon_gulung163.jpg; abon_gulung164.jpg; abon_gulung165.jpg; abon_gulung166.jpg; abon_gulung167.jpg; abon_gulung168.jpg; abon_gulung169.jpg; abon_gulung170.jpg; abon_gulung171.jpg; abon_gulung172.jpg; abon_gulung173.jpg; abon_gulung174.jpg; abon_gulung175.jpg; abon_gulung176.jpg; abon_gulung177.jpg; abon_gulung178.jpg; abon_gulung179.jpg; abon_gulung180.jpg; abon_gulung181.jpg; abon_gulung182.jpg; abon_gulung183.jpg; abon_gulung184.jpg; abon_gulung185.jpg; abon_gulung186.jpg; abon_gulung187.jpg; abon_gulung188.jpg; abon_gulung189.jpg; abon_gulung190.jpg; abon_gulung191.jpg; abon_gulung192.jpg; abon_gulung193.jpg; abon_gulung194.jpg; abon_gulung195.jpg; abon_gulung196.jpg; abon_gulung197.jpg; abon_gulung198.jpg; abon_gulung199.jpg; abon_gulung200.jpg; abon_gulung201.jpg; abon_gulung202.jpg; abon_gulung203.jpg; abon_gulung204.jpg; abon_gulung205.jpg; abon_gulung206.jpg; abon_gulung207.jpg; abon_gulung208.jpg; abon_gulung209.jpg; abon_gulung210.jpg; abon_gulung211.jpg; abon_gulung212.jpg; abon_gulung213.jpg; abon_gulung214.jpg; abon_gulung215.jpg; abon_gulung216.jpg; abon_gulung217.jpg; abon_gulung218.jpg; abon_gulung219.jpg; abon_gulung220.jpg; abon_gulung221.jpg; abon_gulung222.jpg; abon_gulung223.jpg; abon_gulung224.jpg; abon_gulung225.jpg; abon_gulung226.jpg; abon_gulung227.jpg; abon_gulung228.jpg; abon_gulung229.jpg; abon_gulung230.jpg; abon_gulung231.jpg; abon_gulung232.jpg; abon_gulung233.jpg; abon_gulung234.jpg; abon_gulung235.jpg; abon_gulung236.jpg; abon_gulung237.jpg; abon_gulung238.jpg; abon_gulung239.jpg; abon_gulung240.jpg; abon_gulung241.jpg; abon_gulung242.jpg; abon_gulung243.jpg; abon_gulung244.jpg; abon_gulung245.jpg; abon_gulung246.jpg; abon_gulung247.jpg; abon_gulung248.jpg; abon_gulung249.jpg; abon_gulung250.jpg; abon_gulung251.jpg; abon_gulung252.jpg; abon_gulung253.jpg; abon_gulung254.jpg; abon_gulung255.jpg; abon_gulung256.jpg; abon_gulung257.jpg; abon_gulung258.jpg; abon_gulung259.jpg; abon_gulung260.jpg; abon_gulung261.jpg; abon_gulung262.jpg; abon_gulung263.jpg; abon_gulung264.jpg; abon_gulung265.jpg; abon_gulung266.jpg; abon_gulung267.jpg; abon_gulung268.jpg; abon_gulung269.jpg; abon_gulung270.jpg; abon_gulung271.jpg; abon_gulung272.jpg; abon_gulung273.jpg; abon_gulung274.jpg; abon_gulung275.jpg; abon_gulung276.jpg; abon_gulung277.jpg; abon_gulung278.jpg; abon_gulung279.jpg; abon_gulung280.jpg; abon_gulung281.jpg; abon_gulung282.jpg; abon_gulung283.jpg; abon_gulung284.jpg; abon_gulung285.jpg; abon_gulung286.jpg; abon_gulung287.jpg; abon_gulung288.jpg; abon_gulung289.jpg; abon_gulung290.jpg; abon_gulung291.jpg; abon_gulung292.jpg; abon_gulung293.jpg; abon_gulung294.jpg; abon_gulung295.jpg; abon_gulung296.jpg; abon_gulung297.jpg; abon_gulung298.jpg; abon_gulung299.jpg; abon_gulung300.jpg\"\n",
            "\n",
            "abon gulung pawai;oleh-oleh;4;1;\"abon_gulung1.jpg; abon_gulung2.jpg; abon_gulung3.jpg; abon_gulung4.jpg; abon_gulung5.jpg; abon_gulung6.jpg; abon_gulung7.jpg; abon_gulung8.jpg; abon_gulung9.jpg; abon_gulung10.jpg; abon_gulung11.jpg; abon_gulung12.jpg; abon_gulung13.jpg; abon_gulung14.jpg; abon_gulung15.jpg; abon_gulung16.jpg; abon_gulung17.jpg; abon_gulung18.jpg; abon_gulung19.jpg; abon_gulung20.jpg; abon_gulung21.jpg; abon_gulung22.jpg; abon_gulung23.jpg; abon_gulung24.jpg; abon_gulung25.jpg; abon_gulung26.jpg; abon_gulung27.jpg; abon_gulung28.jpg; abon_gulung29.jpg; abon_gulung30.jpg; abon_gulung31.jpg; abon_gulung32.jpg; abon_gulung33.jpg; abon_gulung34.jpg; abon_gulung35.jpg; abon_gulung36.jpg; abon_gulung37.jpg; abon_gulung38.jpg; abon_gulung39.jpg; abon_gulung40.jpg; abon_gulung41.jpg; abon_gulung42.jpg; abon_gulung43.jpg; abon_gulung44.jpg; abon_gulung45.jpg; abon_gulung46.jpg; abon_gulung47.jpg; abon_gulung48.jpg; abon_gulung49.jpg; abon_gulung50.jpg; abon_gulung51.jpg; abon_gulung52.jpg; abon_gulung53.jpg; abon_gulung54.jpg; abon_gulung55.jpg; abon_gulung56.jpg; abon_gulung57.jpg; abon_gulung58.jpg; abon_gulung59.jpg; abon_gulung60.jpg; abon_gulung61.jpg; abon_gulung62.jpg; abon_gulung63.jpg; abon_gulung64.jpg; abon_gulung65.jpg; abon_gulung66.jpg; abon_gulung67.jpg; abon_gulung68.jpg; abon_gulung69.jpg; abon_gulung70.jpg; abon_gulung71.jpg; abon_gulung72.jpg; abon_gulung73.jpg; abon_gulung74.jpg; abon_gulung75.jpg; abon_gulung76.jpg; abon_gulung77.jpg; abon_gulung78.jpg; abon_gulung79.jpg; abon_gulung80.jpg; abon_gulung81.jpg; abon_gulung82.jpg; abon_gulung83.jpg; abon_gulung84.jpg; abon_gulung85.jpg; abon_gulung86.jpg; abon_gulung87.jpg; abon_gulung88.jpg; abon_gulung89.jpg; abon_gulung90.jpg; abon_gulung91.jpg; abon_gulung92.jpg; abon_gulung93.jpg; abon_gulung94.jpg; abon_gulung95.jpg; abon_gulung96.jpg; abon_gulung97.jpg; abon_gulung98.jpg; abon_gulung99.jpg; abon_gulung100.jpg; abon_gulung101.jpg; abon_gulung102.jpg; abon_gulung103.jpg; abon_gulung104.jpg; abon_gulung105.jpg; abon_gulung106.jpg; abon_gulung107.jpg; abon_gulung108.jpg; abon_gulung109.jpg; abon_gulung110.jpg; abon_gulung111.jpg; abon_gulung112.jpg; abon_gulung113.jpg; abon_gulung114.jpg; abon_gulung115.jpg; abon_gulung116.jpg; abon_gulung117.jpg; abon_gulung118.jpg; abon_gulung119.jpg; abon_gulung120.jpg; abon_gulung121.jpg; abon_gulung122.jpg; abon_gulung123.jpg; abon_gulung124.jpg; abon_gulung125.jpg; abon_gulung126.jpg; abon_gulung127.jpg; abon_gulung128.jpg; abon_gulung129.jpg; abon_gulung130.jpg; abon_gulung131.jpg; abon_gulung132.jpg; abon_gulung133.jpg; abon_gulung134.jpg; abon_gulung135.jpg; abon_gulung136.jpg; abon_gulung137.jpg; abon_gulung138.jpg; abon_gulung139.jpg; abon_gulung140.jpg; abon_gulung141.jpg; abon_gulung142.jpg; abon_gulung143.jpg; abon_gulung144.jpg; abon_gulung145.jpg; abon_gulung146.jpg; abon_gulung147.jpg; abon_gulung148.jpg; abon_gulung149.jpg; abon_gulung150.jpg; abon_gulung151.jpg; abon_gulung152.jpg; abon_gulung153.jpg; abon_gulung154.jpg; abon_gulung155.jpg; abon_gulung156.jpg; abon_gulung157.jpg; abon_gulung158.jpg; abon_gulung159.jpg; abon_gulung160.jpg; abon_gulung161.jpg; abon_gulung162.jpg; abon_gulung163.jpg; abon_gulung164.jpg; abon_gulung165.jpg; abon_gulung166.jpg; abon_gulung167.jpg; abon_gulung168.jpg; abon_gulung169.jpg; abon_gulung170.jpg; abon_gulung171.jpg; abon_gulung172.jpg; abon_gulung173.jpg; abon_gulung174.jpg; abon_gulung175.jpg; abon_gulung176.jpg; abon_gulung177.jpg; abon_gulung178.jpg; abon_gulung179.jpg; abon_gulung180.jpg; abon_gulung181.jpg; abon_gulung182.jpg; abon_gulung183.jpg; abon_gulung184.jpg; abon_gulung185.jpg; abon_gulung186.jpg; abon_gulung187.jpg; abon_gulung188.jpg; abon_gulung189.jpg; abon_gulung190.jpg; abon_gulung191.jpg; abon_gulung192.jpg; abon_gulung193.jpg; abon_gulung194.jpg; abon_gulung195.jpg; abon_gulung196.jpg; abon_gulung197.jpg; abon_gulung198.jpg; abon_gulung199.jpg; abon_gulung200.jpg; abon_gulung201.jpg; abon_gulung202.jpg; abon_gulung203.jpg; abon_gulung204.jpg; abon_gulung205.jpg; abon_gulung206.jpg; abon_gulung207.jpg; abon_gulung208.jpg; abon_gulung209.jpg; abon_gulung210.jpg; abon_gulung211.jpg; abon_gulung212.jpg; abon_gulung213.jpg; abon_gulung214.jpg; abon_gulung215.jpg; abon_gulung216.jpg; abon_gulung217.jpg; abon_gulung218.jpg; abon_gulung219.jpg; abon_gulung220.jpg; abon_gulung221.jpg; abon_gulung222.jpg; abon_gulung223.jpg; abon_gulung224.jpg; abon_gulung225.jpg; abon_gulung226.jpg; abon_gulung227.jpg; abon_gulung228.jpg; abon_gulung229.jpg; abon_gulung230.jpg; abon_gulung231.jpg; abon_gulung232.jpg; abon_gulung233.jpg; abon_gulung234.jpg; abon_gulung235.jpg; abon_gulung236.jpg; abon_gulung237.jpg; abon_gulung238.jpg; abon_gulung239.jpg; abon_gulung240.jpg; abon_gulung241.jpg; abon_gulung242.jpg; abon_gulung243.jpg; abon_gulung244.jpg; abon_gulung245.jpg; abon_gulung246.jpg; abon_gulung247.jpg; abon_gulung248.jpg; abon_gulung249.jpg; abon_gulung250.jpg; abon_gulung251.jpg; abon_gulung252.jpg; abon_gulung253.jpg; abon_gulung254.jpg; abon_gulung255.jpg; abon_gulung256.jpg; abon_gulung257.jpg; abon_gulung258.jpg; abon_gulung259.jpg; abon_gulung260.jpg; abon_gulung261.jpg; abon_gulung262.jpg; abon_gulung263.jpg; abon_gulung264.jpg; abon_gulung265.jpg; abon_gulung266.jpg; abon_gulung267.jpg; abon_gulung268.jpg; abon_gulung269.jpg; abon_gulung270.jpg; abon_gulung271.jpg; abon_gulung272.jpg; abon_gulung273.jpg; abon_gulung274.jpg; abon_gulung275.jpg; abon_gulung276.jpg; abon_gulung277.jpg; abon_gulung278.jpg; abon_gulung279.jpg; abon_gulung280.jpg; abon_gulung281.jpg; abon_gulung282.jpg; abon_gulung283.jpg; abon_gulung284.jpg; abon_gulung285.jpg; abon_gulung286.jpg; abon_gulung287.jpg; abon_gulung288.jpg; abon_gulung289.jpg; abon_gulung290.jpg; abon_gulung291.jpg; abon_gulung292.jpg; abon_gulung293.jpg; abon_gulung294.jpg; abon_gulung295.jpg; abon_gulung296.jpg; abon_gulung297.jpg; abon_gulung298.jpg; abon_gulung299.jpg; abon_gulung300.jpg\"\n",
            "\n",
            "user_id,tempat_id,rating\n",
            "\n",
            "1,T001,4\n",
            "\n",
            "1,T002,5\n",
            "\n",
            "2,T003,4\n",
            "\n",
            "2,T004,5\n",
            "\n"
          ]
        }
      ],
      "source": [
        "# Inspect raw content of tempat_cleaned.csv\n",
        "path = '/content/drive/MyDrive/data_oleh_oleh'\n",
        "with open(f'{path}/tempat_cleaned.csv', 'r') as f:\n",
        "    for i in range(5): # Print first 5 lines\n",
        "        print(f.readline())\n",
        "\n",
        "# Inspect raw content of user_rating_cleaned.csv\n",
        "with open(f'{path}/user_rating_cleaned.csv', 'r') as f:\n",
        "    for i in range(5): # Print first 5 lines\n",
        "        print(f.readline())"
      ]
    },
    {
      "cell_type": "code",
      "source": [
        "import os\n",
        "\n",
        "folder_path = \"/content/drive/MyDrive/data_oleh_oleh\"\n",
        "for root, dirs, files in os.walk(folder_path):\n",
        "    print(f\"\\n📁 Folder: {root}\")\n",
        "    for file in files[:5]:  # tampilkan max 5 file per folder\n",
        "        print(f\"  └── {file}\")\n"
      ],
      "metadata": {
        "colab": {
          "base_uri": "https://localhost:8080/"
        },
        "id": "SGv5AYqjmKWR",
        "outputId": "6c8d38a9-0d9e-4a68-8a09-65755c514a69"
      },
      "execution_count": null,
      "outputs": [
        {
          "output_type": "stream",
          "name": "stdout",
          "text": [
            "\n",
            "📁 Folder: /content/drive/MyDrive/data_oleh_oleh\n",
            "  └── category_map_cleaned.csv\n",
            "  └── tempat_cleaned.csv\n",
            "  └── image_labels_validated.csv\n",
            "  └── tempat_cleaned_fixed.csv\n",
            "  └── user_rating_cleaned.csv\n",
            "\n",
            "📁 Folder: /content/drive/MyDrive/data_oleh_oleh/oleh_oleh\n",
            "\n",
            "📁 Folder: /content/drive/MyDrive/data_oleh_oleh/oleh_oleh/keripik_keladi\n",
            "  └── keripik_keladi185.jpeg\n",
            "  └── keripik_keladi246.jpg\n",
            "  └── keripik_keladi243.jpg\n",
            "  └── keripik_keladi241.jpg\n",
            "  └── keripik_keladi248.jpg\n",
            "\n",
            "📁 Folder: /content/drive/MyDrive/data_oleh_oleh/oleh_oleh/abon_gulung\n",
            "  └── abon_gulung1.jpg\n",
            "  └── abon_gulung18.jpg\n",
            "  └── abon_gulung12.jpg\n",
            "  └── abon_gulung15.jpg\n",
            "  └── abon_gulung32.jpg\n",
            "\n",
            "📁 Folder: /content/drive/MyDrive/data_oleh_oleh/souvenir\n",
            "\n",
            "📁 Folder: /content/drive/MyDrive/data_oleh_oleh/souvenir/noken_papua\n",
            "  └── noken1.jpg\n",
            "  └── noken2.jpg\n",
            "  └── noken5.jpg\n",
            "  └── noken4.jpg\n",
            "  └── noken3.jpg\n"
          ]
        }
      ]
    },
    {
      "cell_type": "code",
      "source": [
        "import pandas as pd\n",
        "\n",
        "# Baca file\n",
        "df_tempat = pd.read_csv('/content/drive/MyDrive/data_oleh_oleh/tempat_cleaned.csv')\n",
        "\n",
        "# Tampilkan semua nama kolom apa adanya\n",
        "print(\"🧾 Kolom-kolom yang terbaca dari CSV:\")\n",
        "for i, col in enumerate(df_tempat.columns):\n",
        "    print(f\"{i+1}. '{col}'\")\n"
      ],
      "metadata": {
        "colab": {
          "base_uri": "https://localhost:8080/"
        },
        "id": "A02uDwMF77fy",
        "outputId": "c9283a86-7e07-4206-cd53-aaf54e2ea4f2"
      },
      "execution_count": null,
      "outputs": [
        {
          "output_type": "stream",
          "name": "stdout",
          "text": [
            "🧾 Kolom-kolom yang terbaca dari CSV:\n",
            "1. 'nama_toko;jenis produk;rating;id_tempat;gambar'\n"
          ]
        }
      ]
    },
    {
      "cell_type": "code",
      "source": [
        "import os\n",
        "import pandas as pd\n",
        "\n",
        "# Path to the cleaned image labels CSV\n",
        "cleaned_image_labels_path = '/content/drive/MyDrive/data_oleh_oleh/image_labels_cleaned.csv'\n",
        "\n",
        "# Load the dataframe created and saved in cell A02uDwMF77fy\n",
        "try:\n",
        "    df_img = pd.read_csv(cleaned_image_labels_path)\n",
        "    print(f\"✔️ Successfully loaded {cleaned_image_labels_path}\")\n",
        "\n",
        "    # Assuming image_exists column is in the loaded CSV\n",
        "    if 'image_exists' in df_img.columns:\n",
        "        valid_images = df_img[df_img['image_exists'] == True]['image_name'].tolist()\n",
        "        invalid_images = df_img[df_img['image_exists'] == False]['image_name'].tolist()\n",
        "\n",
        "        print(\"✅ Gambar ditemukan:\", valid_images[:10]) # Print only first 10 for brevity\n",
        "        print(f\"Total gambar ditemukan: {len(valid_images)}\")\n",
        "        print(\"❌ Gambar tidak ditemukan:\", invalid_images[:10]) # Print only first 10 for brevity\n",
        "        print(f\"Total gambar tidak ditemukan: {len(invalid_images)}\")\n",
        "    else:\n",
        "        print(\"⚠️ Column 'image_exists' not found in the CSV. Cannot list valid/invalid images.\")\n",
        "\n",
        "except FileNotFoundError:\n",
        "    print(f\"❌ Error: {cleaned_image_labels_path} not found. Please ensure cell A02uDwMF77fy has been run successfully.\")\n",
        "except Exception as e:\n",
        "    print(f\"❌ An error occurred while reading the CSV: {e}\")\n",
        "\n",
        "# Also print contents of noken_papua folder as originally intended\n",
        "noken_folder = \"/content/drive/MyDrive/data_oleh_oleh/souvenir/noken_papua\"\n",
        "if os.path.exists(noken_folder):\n",
        "    print(\"\\nIsi folder noken_papua:\", os.listdir(noken_folder)[:10])\n",
        "else:\n",
        "    print(f\"\\n❌ Folder not found: {noken_folder}\")"
      ],
      "metadata": {
        "colab": {
          "base_uri": "https://localhost:8080/"
        },
        "id": "MqXQi8Xkh9mM",
        "outputId": "d2d95b76-b989-424c-fe92-056ad2e462c6"
      },
      "execution_count": null,
      "outputs": [
        {
          "output_type": "stream",
          "name": "stdout",
          "text": [
            "✔️ Successfully loaded /content/drive/MyDrive/data_oleh_oleh/image_labels_cleaned.csv\n",
            "⚠️ Column 'image_exists' not found in the CSV. Cannot list valid/invalid images.\n",
            "\n",
            "Isi folder noken_papua: ['noken1.jpg', 'noken2.jpg', 'noken5.jpg', 'noken4.jpg', 'noken3.jpg', 'noken6.jpg', 'noken7.jpg', 'noken8.jpg', 'noken9.jpg', 'noken10.jpg']\n"
          ]
        }
      ]
    },
    {
      "cell_type": "code",
      "source": [
        "from PIL import Image\n",
        "\n",
        "def build_image_path(row):\n",
        "    subfolder = ''\n",
        "    if row['jenis_produk'] == 'souvenir':\n",
        "        subfolder = 'souvenir/noken_papua'\n",
        "    elif row['jenis_produk'] == 'oleh-oleh':\n",
        "        if 'abon' in row['image_name']:\n",
        "            subfolder = 'oleh_oleh/abon_gulung'\n",
        "        elif 'keripik' in row['image_name']:\n",
        "            subfolder = 'oleh_oleh/keripik_keladi'\n",
        "        else:\n",
        "            return None\n",
        "    else:\n",
        "        return None\n",
        "\n",
        "    return f\"{path}/{subfolder}/{row['image_name'].lower()}\"\n",
        "\n",
        "df_images['image_path'] = df_images.apply(build_image_path, axis=1)\n",
        "\n",
        "def is_image_valid(p):\n",
        "    try:\n",
        "        if p and os.path.exists(p):\n",
        "            Image.open(p).verify()\n",
        "            return True\n",
        "    except:\n",
        "        return False\n",
        "    return False\n",
        "\n",
        "df_images['image_exists'] = df_images['image_path'].apply(is_image_valid)\n",
        "print(f\"✔️ Jumlah gambar valid   : {df_images['image_exists'].sum()}\")\n",
        "print(f\"❌ Jumlah gambar tidak valid: {(~df_images['image_exists']).sum()}\")\n"
      ],
      "metadata": {
        "colab": {
          "base_uri": "https://localhost:8080/"
        },
        "id": "4OHbep4GHzci",
        "outputId": "e3e23ad3-2e0e-415c-c259-b1215e853273"
      },
      "execution_count": null,
      "outputs": [
        {
          "output_type": "stream",
          "name": "stdout",
          "text": [
            "✔️ Jumlah gambar valid   : 244434\n",
            "❌ Jumlah gambar tidak valid: 29166\n"
          ]
        }
      ]
    },
    {
      "cell_type": "code",
      "source": [
        "from sklearn.preprocessing import LabelEncoder\n",
        "le = LabelEncoder()\n",
        "df_images['label_encoded'] = le.fit_transform(df_images['jenis_produk'])\n"
      ],
      "metadata": {
        "id": "zcnzQW6dJ5v0",
        "colab": {
          "base_uri": "https://localhost:8080/",
          "height": 182
        },
        "outputId": "7defe161-1031-4e5d-bd02-8cbf94d12436"
      },
      "execution_count": null,
      "outputs": [
        {
          "output_type": "error",
          "ename": "NameError",
          "evalue": "name 'df_images' is not defined",
          "traceback": [
            "\u001b[0;31m---------------------------------------------------------------------------\u001b[0m",
            "\u001b[0;31mNameError\u001b[0m                                 Traceback (most recent call last)",
            "\u001b[0;32m/tmp/ipython-input-1-3531186337.py\u001b[0m in \u001b[0;36m<cell line: 0>\u001b[0;34m()\u001b[0m\n\u001b[1;32m      1\u001b[0m \u001b[0;32mfrom\u001b[0m \u001b[0msklearn\u001b[0m\u001b[0;34m.\u001b[0m\u001b[0mpreprocessing\u001b[0m \u001b[0;32mimport\u001b[0m \u001b[0mLabelEncoder\u001b[0m\u001b[0;34m\u001b[0m\u001b[0;34m\u001b[0m\u001b[0m\n\u001b[1;32m      2\u001b[0m \u001b[0mle\u001b[0m \u001b[0;34m=\u001b[0m \u001b[0mLabelEncoder\u001b[0m\u001b[0;34m(\u001b[0m\u001b[0;34m)\u001b[0m\u001b[0;34m\u001b[0m\u001b[0;34m\u001b[0m\u001b[0m\n\u001b[0;32m----> 3\u001b[0;31m \u001b[0mdf_images\u001b[0m\u001b[0;34m[\u001b[0m\u001b[0;34m'label_encoded'\u001b[0m\u001b[0;34m]\u001b[0m \u001b[0;34m=\u001b[0m \u001b[0mle\u001b[0m\u001b[0;34m.\u001b[0m\u001b[0mfit_transform\u001b[0m\u001b[0;34m(\u001b[0m\u001b[0mdf_images\u001b[0m\u001b[0;34m[\u001b[0m\u001b[0;34m'jenis_produk'\u001b[0m\u001b[0;34m]\u001b[0m\u001b[0;34m)\u001b[0m\u001b[0;34m\u001b[0m\u001b[0;34m\u001b[0m\u001b[0m\n\u001b[0m",
            "\u001b[0;31mNameError\u001b[0m: name 'df_images' is not defined"
          ]
        }
      ]
    },
    {
      "cell_type": "code",
      "source": [
        "import numpy as np\n",
        "import pandas as pd\n",
        "from PIL import Image\n",
        "from tqdm import tqdm\n",
        "from multiprocessing import Pool, cpu_count\n",
        "from sklearn.model_selection import train_test_split\n",
        "from sklearn.metrics import classification_report, confusion_matrix, accuracy_score\n",
        "import xgboost as xgb\n",
        "\n",
        "# ✅ Pastikan LabelEncoder sudah dibuat sebelumnya\n",
        "# from sklearn.preprocessing import LabelEncoder\n",
        "# le = LabelEncoder()\n",
        "# df_images['label_encoded'] = le.fit_transform(df_images['label'])\n",
        "\n",
        "# ✅ Fungsi ekstraksi fitur\n",
        "def extract_features(path, size=(64, 64)):\n",
        "    try:\n",
        "        img = Image.open(path).convert('RGB').resize(size)\n",
        "        return np.array(img).flatten()\n",
        "    except Exception as e:\n",
        "        print(f\"❌ Error processing {path}: {e}\")\n",
        "        return np.zeros(size[0] * size[1] * 3)\n",
        "\n",
        "# ✅ Filter data valid\n",
        "df_valid = df_images[df_images['image_exists']].copy()\n",
        "\n",
        "# ✅ Gunakan multiprocessing agar lebih cepat\n",
        "print(\"🚀 Ekstraksi fitur gambar...\")\n",
        "with Pool(processes=cpu_count()) as pool:\n",
        "    X_xgb = list(tqdm(pool.imap(extract_features, df_valid['image_path']), total=len(df_valid)))\n",
        "\n",
        "X_xgb = np.array(X_xgb)\n",
        "y_xgb = df_valid['label_encoded'].values\n",
        "\n",
        "# ✅ Split data\n",
        "X_train, X_test, y_train, y_test = train_test_split(\n",
        "    X_xgb, y_xgb, test_size=0.2, random_state=42, stratify=y_xgb\n",
        ")\n",
        "\n",
        "# ✅ Inisialisasi dan training XGBoost\n",
        "model_xgb = xgb.XGBClassifier(\n",
        "    n_estimators=10,\n",
        "    max_depth=3,\n",
        "    learning_rate=0.05,\n",
        "    subsample=0.8,\n",
        "    colsample_bytree=0.8,\n",
        "    use_label_encoder=False,\n",
        "    eval_metric=\"mlogloss\"\n",
        ")\n",
        "model_xgb.fit(X_train, y_train)\n",
        "\n",
        "# ✅ Evaluasi\n",
        "y_pred = model_xgb.predict(X_test)\n",
        "print(\"🔎 XGBoost Evaluation:\")\n",
        "print(classification_report(y_test, y_pred, target_names=le.classes_))\n"
      ],
      "metadata": {
        "colab": {
          "base_uri": "https://localhost:8080/"
        },
        "id": "5VVZARNmZFhH",
        "outputId": "8ddba0a2-399a-4ff5-d9c9-f0d1388c5e12"
      },
      "execution_count": null,
      "outputs": [
        {
          "output_type": "stream",
          "name": "stdout",
          "text": [
            "🚀 Ekstraksi fitur gambar...\n"
          ]
        },
        {
          "output_type": "stream",
          "name": "stderr",
          "text": [
            "100%|██████████| 244434/244434 [9:02:20<00:00,  7.51it/s]\n"
          ]
        }
      ]
    },
    {
      "cell_type": "code",
      "source": [
        "# =====================================\n",
        "# TRAINING XGBOOST DARI FITUR VGG16 + PCA\n",
        "# =====================================\n",
        "\n",
        "import numpy as np\n",
        "import pandas as pd\n",
        "import time\n",
        "import os\n",
        "import joblib\n",
        "import matplotlib.pyplot as plt\n",
        "import seaborn as sns\n",
        "\n",
        "from sklearn.model_selection import train_test_split\n",
        "from sklearn.metrics import classification_report, accuracy_score, confusion_matrix\n",
        "from sklearn.preprocessing import LabelEncoder\n",
        "from sklearn.decomposition import PCA\n",
        "\n",
        "from xgboost import XGBClassifier\n",
        "\n",
        "# =====================================\n",
        "# 1. LOAD FITUR DAN LABEL\n",
        "# =====================================\n",
        "print(\"📦 Loading data fitur dan label dari .npz...\")\n",
        "if not os.path.exists('fitur_dan_label.npz'):\n",
        "    raise FileNotFoundError(\"❌ File 'fitur_dan_label.npz' tidak ditemukan!\")\n",
        "\n",
        "data = np.load('fitur_dan_label.npz')\n",
        "X = data['features']\n",
        "y = data['labels']\n",
        "\n",
        "print(f\"✅ Loaded! Fitur shape: {X.shape}, Label shape: {y.shape}\")\n",
        "\n",
        "# =====================================\n",
        "# 2. ENKODE LABEL (AMANKAN HANDLE STR ATAU INT)\n",
        "# =====================================\n",
        "try:\n",
        "    le = joblib.load('label_encoder.pkl')\n",
        "    print(\"🔤 Label encoder berhasil dimuat.\")\n",
        "    if y.dtype.kind in {'U', 'S', 'O'}:\n",
        "        y = le.transform(y)\n",
        "except FileNotFoundError:\n",
        "    print(\"⚠️ Label encoder tidak ditemukan. Melakukan encoding ulang...\")\n",
        "    le = LabelEncoder()\n",
        "    if y.dtype.kind in {'U', 'S', 'O'}:\n",
        "        y = le.fit_transform(y)\n",
        "        joblib.dump(le, 'label_encoder.pkl')\n",
        "        print(\"✅ Label berhasil diencode dan encoder disimpan.\")\n",
        "    else:\n",
        "        print(\"✅ Label sudah berupa angka.\")\n",
        "\n",
        "# =====================================\n",
        "# 3. CEK DISTRIBUSI LABEL\n",
        "# =====================================\n",
        "print(\"📊 Distribusi label:\")\n",
        "for label_id, count in zip(*np.unique(y, return_counts=True)):\n",
        "    try:\n",
        "        label_name = le.inverse_transform([label_id])[0]\n",
        "        print(f\"  - {label_name}: {count} data\")\n",
        "    except:\n",
        "        print(f\"  - ID {label_id}: {count} data\")\n",
        "\n",
        "# =====================================\n",
        "# 4. PCA UNTUK REDUKSI DIMENSI\n",
        "# =====================================\n",
        "print(\"🔧 Melakukan reduksi dimensi dengan PCA...\")\n",
        "pca = PCA(n_components=100, random_state=42)\n",
        "X_pca = pca.fit_transform(X)\n",
        "print(f\"✅ Fitur setelah PCA: {X_pca.shape}\")\n",
        "\n",
        "# =====================================\n",
        "# 5. SPLIT DATA\n",
        "# =====================================\n",
        "print(\"🧪 Split data ke training dan testing set...\")\n",
        "X_train, X_test, y_train, y_test = train_test_split(\n",
        "    X_pca, y, test_size=0.2, stratify=y, random_state=42\n",
        ")\n",
        "print(f\"🔹 Train shape: {X_train.shape}, Test shape: {X_test.shape}\")\n",
        "\n",
        "# =====================================\n",
        "# 6. TRAINING MODEL XGBOOST + EARLY STOP\n",
        "# =====================================\n",
        "print(\"🚀 Training XGBoost model...\")\n",
        "start = time.time()\n",
        "\n",
        "model_xgb = XGBClassifier(\n",
        "    tree_method='hist',\n",
        "    n_estimators=300,\n",
        "    max_depth=6,\n",
        "    learning_rate=0.1,\n",
        "    subsample=0.9,\n",
        "    colsample_bytree=0.9,\n",
        "    objective='binary:logistic',\n",
        "    use_label_encoder=False,\n",
        "    eval_metric='logloss',\n",
        "    verbosity=1\n",
        ")\n",
        "\n",
        "model_xgb.fit(\n",
        "    X_train, y_train,\n",
        "    eval_set=[(X_test, y_test)],\n",
        "    verbose=True\n",
        ")\n",
        "\n",
        "train_duration = (time.time() - start) / 60\n",
        "print(f\"✅ Model training selesai dalam {train_duration:.2f} menit\")\n",
        "\n",
        "# =====================================\n",
        "# 7. EVALUASI HASIL\n",
        "# =====================================\n",
        "print(\"📊 Evaluasi model di test set...\")\n",
        "y_pred = model_xgb.predict(X_test)\n",
        "acc = accuracy_score(y_test, y_pred)\n",
        "\n",
        "print(f\"\\n🎯 Akurasi Test: {acc * 100:.2f}%\")\n",
        "print(\"\\n🧾 Classification Report:\")\n",
        "try:\n",
        "    print(classification_report(y_test, y_pred, target_names=le.classes_))\n",
        "except:\n",
        "    print(\"⚠️ Gagal gunakan target_names. Menampilkan tanpa nama label.\")\n",
        "    print(classification_report(y_test, y_pred))\n",
        "\n",
        "# =====================================\n",
        "# 8. CONFUSION MATRIX VISUAL\n",
        "# =====================================\n",
        "cm = confusion_matrix(y_test, y_pred)\n",
        "plt.figure(figsize=(6, 5))\n",
        "sns.heatmap(cm, annot=True, fmt='d', cmap='Blues',\n",
        "            xticklabels=le.classes_, yticklabels=le.classes_)\n",
        "plt.xlabel('Predicted Label')\n",
        "plt.ylabel('True Label')\n",
        "plt.title('Confusion Matrix')\n",
        "plt.tight_layout()\n",
        "plt.show()\n",
        "\n",
        "# =====================================\n",
        "# 9. SIMPAN MODEL & PCA\n",
        "# =====================================\n",
        "joblib.dump(model_xgb, 'model_xgboost_oleh_oleh.pkl')\n",
        "joblib.dump(pca, 'pca_transform.pkl')\n",
        "print(\"💾 Model disimpan sebagai 'model_xgboost_oleh_oleh.pkl'\")\n",
        "print(\"💾 Transformasi PCA disimpan sebagai 'pca_transform.pkl'\")"
      ],
      "metadata": {
        "colab": {
          "base_uri": "https://localhost:8080/",
          "height": 1000
        },
        "id": "9ONCLWBaz08G",
        "outputId": "56e83f5d-dbf1-4f86-f087-e56a67623e3a"
      },
      "execution_count": null,
      "outputs": [
        {
          "output_type": "stream",
          "name": "stdout",
          "text": [
            "📦 Loading data fitur dan label dari .npz...\n",
            "✅ Loaded! Fitur shape: (1000, 512), Label shape: (1000,)\n",
            "🔤 Label encoder berhasil dimuat.\n",
            "📊 Distribusi label:\n",
            "  - oleh_oleh: 493 data\n",
            "  - souvenir: 507 data\n",
            "🔧 Melakukan reduksi dimensi dengan PCA...\n",
            "✅ Fitur setelah PCA: (1000, 100)\n",
            "🧪 Split data ke training dan testing set...\n",
            "🔹 Train shape: (800, 100), Test shape: (200, 100)\n",
            "🚀 Training XGBoost model...\n",
            "[0]\tvalidation_0-logloss:0.69226\n",
            "[1]\tvalidation_0-logloss:0.69797\n",
            "[2]\tvalidation_0-logloss:0.70070\n",
            "[3]\tvalidation_0-logloss:0.70448\n",
            "[4]\tvalidation_0-logloss:0.70580\n",
            "[5]\tvalidation_0-logloss:0.70702\n",
            "[6]\tvalidation_0-logloss:0.70676\n",
            "[7]\tvalidation_0-logloss:0.71222\n"
          ]
        },
        {
          "output_type": "stream",
          "name": "stderr",
          "text": [
            "/usr/local/lib/python3.11/dist-packages/xgboost/core.py:158: UserWarning: [12:30:54] WARNING: /workspace/src/learner.cc:740: \n",
            "Parameters: { \"use_label_encoder\" } are not used.\n",
            "\n",
            "  warnings.warn(smsg, UserWarning)\n"
          ]
        },
        {
          "output_type": "stream",
          "name": "stdout",
          "text": [
            "[8]\tvalidation_0-logloss:0.71132\n",
            "[9]\tvalidation_0-logloss:0.71165\n",
            "[10]\tvalidation_0-logloss:0.71808\n",
            "[11]\tvalidation_0-logloss:0.71798\n",
            "[12]\tvalidation_0-logloss:0.72102\n",
            "[13]\tvalidation_0-logloss:0.72537\n",
            "[14]\tvalidation_0-logloss:0.72630\n",
            "[15]\tvalidation_0-logloss:0.72785\n",
            "[16]\tvalidation_0-logloss:0.73293\n",
            "[17]\tvalidation_0-logloss:0.73673\n",
            "[18]\tvalidation_0-logloss:0.74136\n",
            "[19]\tvalidation_0-logloss:0.73928\n",
            "[20]\tvalidation_0-logloss:0.73932\n",
            "[21]\tvalidation_0-logloss:0.74149\n",
            "[22]\tvalidation_0-logloss:0.73917\n",
            "[23]\tvalidation_0-logloss:0.73982\n",
            "[24]\tvalidation_0-logloss:0.74283\n",
            "[25]\tvalidation_0-logloss:0.74497\n",
            "[26]\tvalidation_0-logloss:0.74394\n",
            "[27]\tvalidation_0-logloss:0.74150\n",
            "[28]\tvalidation_0-logloss:0.74422\n",
            "[29]\tvalidation_0-logloss:0.74713\n",
            "[30]\tvalidation_0-logloss:0.74422\n",
            "[31]\tvalidation_0-logloss:0.74325\n",
            "[32]\tvalidation_0-logloss:0.74347\n",
            "[33]\tvalidation_0-logloss:0.74435\n",
            "[34]\tvalidation_0-logloss:0.74456\n",
            "[35]\tvalidation_0-logloss:0.74803\n",
            "[36]\tvalidation_0-logloss:0.74953\n",
            "[37]\tvalidation_0-logloss:0.74635\n",
            "[38]\tvalidation_0-logloss:0.74966\n",
            "[39]\tvalidation_0-logloss:0.74740\n",
            "[40]\tvalidation_0-logloss:0.74541\n",
            "[41]\tvalidation_0-logloss:0.74547\n",
            "[42]\tvalidation_0-logloss:0.74459\n",
            "[43]\tvalidation_0-logloss:0.74511\n",
            "[44]\tvalidation_0-logloss:0.74686\n",
            "[45]\tvalidation_0-logloss:0.75153\n",
            "[46]\tvalidation_0-logloss:0.75073\n",
            "[47]\tvalidation_0-logloss:0.75207\n",
            "[48]\tvalidation_0-logloss:0.75443\n",
            "[49]\tvalidation_0-logloss:0.75252\n",
            "[50]\tvalidation_0-logloss:0.75403\n",
            "[51]\tvalidation_0-logloss:0.75141\n",
            "[52]\tvalidation_0-logloss:0.75012\n",
            "[53]\tvalidation_0-logloss:0.75081\n",
            "[54]\tvalidation_0-logloss:0.75183\n",
            "[55]\tvalidation_0-logloss:0.75432\n",
            "[56]\tvalidation_0-logloss:0.75435\n",
            "[57]\tvalidation_0-logloss:0.75509\n",
            "[58]\tvalidation_0-logloss:0.75812\n",
            "[59]\tvalidation_0-logloss:0.76022\n",
            "[60]\tvalidation_0-logloss:0.76168\n",
            "[61]\tvalidation_0-logloss:0.76330\n",
            "[62]\tvalidation_0-logloss:0.76143\n",
            "[63]\tvalidation_0-logloss:0.76150\n",
            "[64]\tvalidation_0-logloss:0.76221\n",
            "[65]\tvalidation_0-logloss:0.76552\n",
            "[66]\tvalidation_0-logloss:0.76692\n",
            "[67]\tvalidation_0-logloss:0.76562\n",
            "[68]\tvalidation_0-logloss:0.76601\n",
            "[69]\tvalidation_0-logloss:0.76465\n",
            "[70]\tvalidation_0-logloss:0.76298\n",
            "[71]\tvalidation_0-logloss:0.76387\n",
            "[72]\tvalidation_0-logloss:0.76525\n",
            "[73]\tvalidation_0-logloss:0.76635\n",
            "[74]\tvalidation_0-logloss:0.76770\n",
            "[75]\tvalidation_0-logloss:0.76913\n",
            "[76]\tvalidation_0-logloss:0.77102\n",
            "[77]\tvalidation_0-logloss:0.77272\n",
            "[78]\tvalidation_0-logloss:0.77379\n",
            "[79]\tvalidation_0-logloss:0.77313\n",
            "[80]\tvalidation_0-logloss:0.77474\n",
            "[81]\tvalidation_0-logloss:0.77806\n",
            "[82]\tvalidation_0-logloss:0.77816\n",
            "[83]\tvalidation_0-logloss:0.77993\n",
            "[84]\tvalidation_0-logloss:0.78176\n",
            "[85]\tvalidation_0-logloss:0.78356\n",
            "[86]\tvalidation_0-logloss:0.78226\n",
            "[87]\tvalidation_0-logloss:0.78422\n",
            "[88]\tvalidation_0-logloss:0.78312\n",
            "[89]\tvalidation_0-logloss:0.78647\n",
            "[90]\tvalidation_0-logloss:0.78566\n",
            "[91]\tvalidation_0-logloss:0.78495\n",
            "[92]\tvalidation_0-logloss:0.78778\n",
            "[93]\tvalidation_0-logloss:0.78595\n",
            "[94]\tvalidation_0-logloss:0.78529\n",
            "[95]\tvalidation_0-logloss:0.78708\n",
            "[96]\tvalidation_0-logloss:0.78454\n",
            "[97]\tvalidation_0-logloss:0.78395\n",
            "[98]\tvalidation_0-logloss:0.78072\n",
            "[99]\tvalidation_0-logloss:0.78139\n",
            "[100]\tvalidation_0-logloss:0.78049\n",
            "[101]\tvalidation_0-logloss:0.78182\n",
            "[102]\tvalidation_0-logloss:0.78456\n",
            "[103]\tvalidation_0-logloss:0.78603\n",
            "[104]\tvalidation_0-logloss:0.78829\n",
            "[105]\tvalidation_0-logloss:0.78572\n",
            "[106]\tvalidation_0-logloss:0.78616\n",
            "[107]\tvalidation_0-logloss:0.78518\n",
            "[108]\tvalidation_0-logloss:0.78514\n",
            "[109]\tvalidation_0-logloss:0.78572\n",
            "[110]\tvalidation_0-logloss:0.78768\n",
            "[111]\tvalidation_0-logloss:0.78850\n",
            "[112]\tvalidation_0-logloss:0.79057\n",
            "[113]\tvalidation_0-logloss:0.78938\n",
            "[114]\tvalidation_0-logloss:0.79079\n",
            "[115]\tvalidation_0-logloss:0.79155\n",
            "[116]\tvalidation_0-logloss:0.79154\n",
            "[117]\tvalidation_0-logloss:0.79390\n",
            "[118]\tvalidation_0-logloss:0.79252\n",
            "[119]\tvalidation_0-logloss:0.79174\n",
            "[120]\tvalidation_0-logloss:0.79388\n",
            "[121]\tvalidation_0-logloss:0.79670\n",
            "[122]\tvalidation_0-logloss:0.79629\n",
            "[123]\tvalidation_0-logloss:0.79487\n",
            "[124]\tvalidation_0-logloss:0.79628\n",
            "[125]\tvalidation_0-logloss:0.79871\n",
            "[126]\tvalidation_0-logloss:0.80184\n",
            "[127]\tvalidation_0-logloss:0.80174\n",
            "[128]\tvalidation_0-logloss:0.80166\n",
            "[129]\tvalidation_0-logloss:0.80351\n",
            "[130]\tvalidation_0-logloss:0.80460\n",
            "[131]\tvalidation_0-logloss:0.80563\n",
            "[132]\tvalidation_0-logloss:0.80682\n",
            "[133]\tvalidation_0-logloss:0.80698\n",
            "[134]\tvalidation_0-logloss:0.80777\n",
            "[135]\tvalidation_0-logloss:0.80727\n",
            "[136]\tvalidation_0-logloss:0.80592\n",
            "[137]\tvalidation_0-logloss:0.80854\n",
            "[138]\tvalidation_0-logloss:0.80984\n",
            "[139]\tvalidation_0-logloss:0.80999\n",
            "[140]\tvalidation_0-logloss:0.81150\n",
            "[141]\tvalidation_0-logloss:0.81064\n",
            "[142]\tvalidation_0-logloss:0.81239\n",
            "[143]\tvalidation_0-logloss:0.81100\n",
            "[144]\tvalidation_0-logloss:0.81249\n",
            "[145]\tvalidation_0-logloss:0.81282\n",
            "[146]\tvalidation_0-logloss:0.81539\n",
            "[147]\tvalidation_0-logloss:0.81571\n",
            "[148]\tvalidation_0-logloss:0.81664\n",
            "[149]\tvalidation_0-logloss:0.81573\n",
            "[150]\tvalidation_0-logloss:0.81683\n",
            "[151]\tvalidation_0-logloss:0.81606\n",
            "[152]\tvalidation_0-logloss:0.81634\n",
            "[153]\tvalidation_0-logloss:0.81684\n",
            "[154]\tvalidation_0-logloss:0.81847\n",
            "[155]\tvalidation_0-logloss:0.81865\n",
            "[156]\tvalidation_0-logloss:0.81927\n",
            "[157]\tvalidation_0-logloss:0.81899\n",
            "[158]\tvalidation_0-logloss:0.82258\n",
            "[159]\tvalidation_0-logloss:0.82318\n",
            "[160]\tvalidation_0-logloss:0.82271\n",
            "[161]\tvalidation_0-logloss:0.82417\n",
            "[162]\tvalidation_0-logloss:0.82528\n",
            "[163]\tvalidation_0-logloss:0.82630\n",
            "[164]\tvalidation_0-logloss:0.82732\n",
            "[165]\tvalidation_0-logloss:0.82808\n",
            "[166]\tvalidation_0-logloss:0.83056\n",
            "[167]\tvalidation_0-logloss:0.83050\n",
            "[168]\tvalidation_0-logloss:0.83257\n",
            "[169]\tvalidation_0-logloss:0.83485\n",
            "[170]\tvalidation_0-logloss:0.83610\n",
            "[171]\tvalidation_0-logloss:0.83726\n",
            "[172]\tvalidation_0-logloss:0.83754\n",
            "[173]\tvalidation_0-logloss:0.83886\n",
            "[174]\tvalidation_0-logloss:0.83913\n",
            "[175]\tvalidation_0-logloss:0.84012\n",
            "[176]\tvalidation_0-logloss:0.84181\n",
            "[177]\tvalidation_0-logloss:0.84259\n",
            "[178]\tvalidation_0-logloss:0.84333\n",
            "[179]\tvalidation_0-logloss:0.84289\n",
            "[180]\tvalidation_0-logloss:0.84271\n",
            "[181]\tvalidation_0-logloss:0.84321\n",
            "[182]\tvalidation_0-logloss:0.84511\n",
            "[183]\tvalidation_0-logloss:0.84550\n",
            "[184]\tvalidation_0-logloss:0.84580\n",
            "[185]\tvalidation_0-logloss:0.84658\n",
            "[186]\tvalidation_0-logloss:0.84725\n",
            "[187]\tvalidation_0-logloss:0.84812\n",
            "[188]\tvalidation_0-logloss:0.84655\n",
            "[189]\tvalidation_0-logloss:0.84869\n",
            "[190]\tvalidation_0-logloss:0.84915\n",
            "[191]\tvalidation_0-logloss:0.85083\n",
            "[192]\tvalidation_0-logloss:0.85035\n",
            "[193]\tvalidation_0-logloss:0.84991\n",
            "[194]\tvalidation_0-logloss:0.85108\n",
            "[195]\tvalidation_0-logloss:0.85211\n",
            "[196]\tvalidation_0-logloss:0.85341\n",
            "[197]\tvalidation_0-logloss:0.85270\n",
            "[198]\tvalidation_0-logloss:0.85186\n",
            "[199]\tvalidation_0-logloss:0.85196\n",
            "[200]\tvalidation_0-logloss:0.85399\n",
            "[201]\tvalidation_0-logloss:0.85336\n",
            "[202]\tvalidation_0-logloss:0.85230\n",
            "[203]\tvalidation_0-logloss:0.85455\n",
            "[204]\tvalidation_0-logloss:0.85478\n",
            "[205]\tvalidation_0-logloss:0.85526\n",
            "[206]\tvalidation_0-logloss:0.85742\n",
            "[207]\tvalidation_0-logloss:0.85788\n",
            "[208]\tvalidation_0-logloss:0.85792\n",
            "[209]\tvalidation_0-logloss:0.85925\n",
            "[210]\tvalidation_0-logloss:0.86066\n",
            "[211]\tvalidation_0-logloss:0.86142\n",
            "[212]\tvalidation_0-logloss:0.86143\n",
            "[213]\tvalidation_0-logloss:0.86134\n",
            "[214]\tvalidation_0-logloss:0.86329\n",
            "[215]\tvalidation_0-logloss:0.86349\n",
            "[216]\tvalidation_0-logloss:0.86420\n",
            "[217]\tvalidation_0-logloss:0.86368\n",
            "[218]\tvalidation_0-logloss:0.86439\n",
            "[219]\tvalidation_0-logloss:0.86554\n",
            "[220]\tvalidation_0-logloss:0.86609\n",
            "[221]\tvalidation_0-logloss:0.86644\n",
            "[222]\tvalidation_0-logloss:0.86743\n",
            "[223]\tvalidation_0-logloss:0.86824\n",
            "[224]\tvalidation_0-logloss:0.86697\n",
            "[225]\tvalidation_0-logloss:0.86697\n",
            "[226]\tvalidation_0-logloss:0.86818\n",
            "[227]\tvalidation_0-logloss:0.87026\n",
            "[228]\tvalidation_0-logloss:0.86901\n",
            "[229]\tvalidation_0-logloss:0.86909\n",
            "[230]\tvalidation_0-logloss:0.86937\n",
            "[231]\tvalidation_0-logloss:0.86935\n",
            "[232]\tvalidation_0-logloss:0.86957\n",
            "[233]\tvalidation_0-logloss:0.87035\n",
            "[234]\tvalidation_0-logloss:0.87220\n",
            "[235]\tvalidation_0-logloss:0.87261\n",
            "[236]\tvalidation_0-logloss:0.87193\n",
            "[237]\tvalidation_0-logloss:0.87138\n",
            "[238]\tvalidation_0-logloss:0.87213\n",
            "[239]\tvalidation_0-logloss:0.87421\n",
            "[240]\tvalidation_0-logloss:0.87517\n",
            "[241]\tvalidation_0-logloss:0.87604\n",
            "[242]\tvalidation_0-logloss:0.87670\n",
            "[243]\tvalidation_0-logloss:0.87694\n",
            "[244]\tvalidation_0-logloss:0.87894\n",
            "[245]\tvalidation_0-logloss:0.87930\n",
            "[246]\tvalidation_0-logloss:0.87886\n",
            "[247]\tvalidation_0-logloss:0.87923\n",
            "[248]\tvalidation_0-logloss:0.87924\n",
            "[249]\tvalidation_0-logloss:0.87890\n",
            "[250]\tvalidation_0-logloss:0.87828\n",
            "[251]\tvalidation_0-logloss:0.87954\n",
            "[252]\tvalidation_0-logloss:0.88004\n",
            "[253]\tvalidation_0-logloss:0.88103\n",
            "[254]\tvalidation_0-logloss:0.88115\n",
            "[255]\tvalidation_0-logloss:0.88094\n",
            "[256]\tvalidation_0-logloss:0.88077\n",
            "[257]\tvalidation_0-logloss:0.88303\n",
            "[258]\tvalidation_0-logloss:0.88341\n",
            "[259]\tvalidation_0-logloss:0.88341\n",
            "[260]\tvalidation_0-logloss:0.88218\n",
            "[261]\tvalidation_0-logloss:0.88252\n",
            "[262]\tvalidation_0-logloss:0.88247\n",
            "[263]\tvalidation_0-logloss:0.88146\n",
            "[264]\tvalidation_0-logloss:0.88120\n",
            "[265]\tvalidation_0-logloss:0.88352\n",
            "[266]\tvalidation_0-logloss:0.88450\n",
            "[267]\tvalidation_0-logloss:0.88563\n",
            "[268]\tvalidation_0-logloss:0.88578\n",
            "[269]\tvalidation_0-logloss:0.88506\n",
            "[270]\tvalidation_0-logloss:0.88694\n",
            "[271]\tvalidation_0-logloss:0.88707\n",
            "[272]\tvalidation_0-logloss:0.88807\n",
            "[273]\tvalidation_0-logloss:0.88722\n",
            "[274]\tvalidation_0-logloss:0.88728\n",
            "[275]\tvalidation_0-logloss:0.88648\n",
            "[276]\tvalidation_0-logloss:0.88704\n",
            "[277]\tvalidation_0-logloss:0.88730\n",
            "[278]\tvalidation_0-logloss:0.88643\n",
            "[279]\tvalidation_0-logloss:0.88688\n",
            "[280]\tvalidation_0-logloss:0.88771\n",
            "[281]\tvalidation_0-logloss:0.88765\n",
            "[282]\tvalidation_0-logloss:0.88789\n",
            "[283]\tvalidation_0-logloss:0.88804\n",
            "[284]\tvalidation_0-logloss:0.88823\n",
            "[285]\tvalidation_0-logloss:0.88842\n",
            "[286]\tvalidation_0-logloss:0.88769\n",
            "[287]\tvalidation_0-logloss:0.88732\n",
            "[288]\tvalidation_0-logloss:0.88732\n",
            "[289]\tvalidation_0-logloss:0.88903\n",
            "[290]\tvalidation_0-logloss:0.88979\n",
            "[291]\tvalidation_0-logloss:0.89038\n",
            "[292]\tvalidation_0-logloss:0.89142\n",
            "[293]\tvalidation_0-logloss:0.89158\n",
            "[294]\tvalidation_0-logloss:0.89288\n",
            "[295]\tvalidation_0-logloss:0.89306\n",
            "[296]\tvalidation_0-logloss:0.89338\n",
            "[297]\tvalidation_0-logloss:0.89421\n",
            "[298]\tvalidation_0-logloss:0.89369\n",
            "[299]\tvalidation_0-logloss:0.89391\n",
            "✅ Model training selesai dalam 0.06 menit\n",
            "📊 Evaluasi model di test set...\n",
            "\n",
            "🎯 Akurasi Test: 48.00%\n",
            "\n",
            "🧾 Classification Report:\n",
            "              precision    recall  f1-score   support\n",
            "\n",
            "   oleh_oleh       0.47      0.38      0.42        99\n",
            "    souvenir       0.49      0.57      0.53       101\n",
            "\n",
            "    accuracy                           0.48       200\n",
            "   macro avg       0.48      0.48      0.47       200\n",
            "weighted avg       0.48      0.48      0.48       200\n",
            "\n"
          ]
        },
        {
          "output_type": "display_data",
          "data": {
            "text/plain": [
              "<Figure size 600x500 with 2 Axes>"
            ],
            "image/png": "[encoded data removed]"
          },
          "metadata": {}
        },
        {
          "output_type": "stream",
          "name": "stdout",
          "text": [
            "💾 Model disimpan sebagai 'model_xgboost_oleh_oleh.pkl'\n",
            "💾 Transformasi PCA disimpan sebagai 'pca_transform.pkl'\n"
          ]
        }
      ]
    },
    {
      "cell_type": "code",
      "source": [
        "import numpy as np\n",
        "import pandas as pd\n",
        "from sklearn.preprocessing import LabelEncoder\n",
        "import joblib # Import joblib to save the label encoder\n",
        "\n",
        "# --- Bagian 1: Simulasi hasil ekstraksi (ganti dengan hasil aslimu)\n",
        "# Contoh dummy (kalau kamu udah punya hasil asli, tinggal ganti bagian ini)\n",
        "# Misal hasil ekstraksi pakai model pretrained -> shape (244434, 512)\n",
        "# dan label string seperti 'souvenir', 'oleh_oleh'\n",
        "\n",
        "# Ganti ini dengan hasil ekstraksi asli\n",
        "features = np.random.rand(1000, 512)  # Contoh 1000 gambar, 512 fitur\n",
        "# Keep original string labels here for fitting the encoder\n",
        "original_labels = np.random.choice(['souvenir', 'oleh_oleh'], 1000)\n",
        "\n",
        "# --- Bagian 2: Encoding label jadi angka (jika belum)\n",
        "le = LabelEncoder()\n",
        "# Fit the label encoder on the original string labels\n",
        "labels_encoded = le.fit_transform(original_labels)\n",
        "\n",
        "# Explicitly convert labels to integer type for XGBoost\n",
        "labels_encoded = labels_encoded.astype(int)\n",
        "\n",
        "# Save the fitted label encoder\n",
        "joblib.dump(le, 'label_encoder.pkl')\n",
        "print(\"✅ Label encoder berhasil disimpan.\")\n",
        "print(f\"Content of le.classes_ after fitting: {le.classes_}\") # Print to verify\n",
        "\n",
        "\n",
        "# --- Bagian 3: Simpan ke file .npz\n",
        "# Save the encoded labels in the npz file\n",
        "np.savez('fitur_dan_label.npz', features=features, labels=labels_encoded)\n",
        "print(\"✅ Disimpan ke 'fitur_dan_label.npz'\")\n",
        "\n",
        "# --- Bagian 4: Simpan ke CSV juga (opsional)\n",
        "df = pd.DataFrame(features)\n",
        "df['label'] = labels_encoded # Save encoded labels in CSV\n",
        "df.to_csv('fitur_dan_label.csv', index=False)\n",
        "print(\"✅ Disimpan juga ke 'fitur_dan_label.csv'\")\n",
        "\n",
        "# --- Bonus: Load ulang data dari file .npz\n",
        "print(\"\\n🔄 Contoh load ulang data:\")\n",
        "data = np.load('fitur_dan_label.npz')\n",
        "features_loaded = data['features']\n",
        "labels_loaded = data['labels']\n",
        "\n",
        "print(\"📂 Fitur shape:\", features_loaded.shape)\n",
        "print(\"📂 Label shape:\", labels_loaded.shape)\n",
        "print(\"📂 Label dtype:\", labels_loaded.dtype)"
      ],
      "metadata": {
        "colab": {
          "base_uri": "https://localhost:8080/"
        },
        "id": "90XXXAlvqYeJ",
        "outputId": "b0a4780e-3ac6-406f-b104-152373b7ec60"
      },
      "execution_count": null,
      "outputs": [
        {
          "output_type": "stream",
          "name": "stdout",
          "text": [
            "✅ Label encoder berhasil disimpan.\n",
            "Content of le.classes_ after fitting: ['oleh_oleh' 'souvenir']\n",
            "✅ Disimpan ke 'fitur_dan_label.npz'\n",
            "✅ Disimpan juga ke 'fitur_dan_label.csv'\n",
            "\n",
            "🔄 Contoh load ulang data:\n",
            "📂 Fitur shape: (1000, 512)\n",
            "📂 Label shape: (1000,)\n",
            "📂 Label dtype: int64\n"
          ]
        }
      ]
    },
    {
      "cell_type": "code",
      "source": [
        "from tensorflow.keras.applications.vgg16 import VGG16, preprocess_input\n",
        "from tensorflow.keras.preprocessing.image import ImageDataGenerator\n",
        "from tensorflow.keras.models import Model\n",
        "from tensorflow.keras.layers import Dense, Dropout, GlobalAveragePooling2D\n",
        "from tensorflow.keras.optimizers import Adam\n",
        "from tensorflow.keras.callbacks import EarlyStopping, ModelCheckpoint\n",
        "import matplotlib.pyplot as plt\n",
        "import os\n",
        "\n",
        "# 🔧 SETTING\n",
        "image_size = (128, 128)\n",
        "batch_size = 32\n",
        "epochs = 10  # Untuk akurasi 90%, bisa naikkan hingga 100\n",
        "# Update the data_dir to the correct path based on the os.walk output\n",
        "data_dir = \"/content/drive/MyDrive/data_oleh_oleh/oleh_oleh\"  # Corrected path for 'oleh_oleh'\n",
        "souvenir_data_dir = \"/content/drive/MyDrive/data_oleh_oleh/souvenir\" # Path for 'souvenir'\n",
        "\n",
        "# 📦 LOAD DATA\n",
        "# Create a datagen for 'oleh_oleh'\n",
        "datagen_oleh_oleh = ImageDataGenerator(\n",
        "    preprocessing_function=preprocess_input,\n",
        "    validation_split=0.2,\n",
        "    horizontal_flip=True,\n",
        "    rotation_range=20,\n",
        "    zoom_range=0.2,\n",
        "    shear_range=0.2\n",
        ")\n",
        "\n",
        "train_gen_oleh_oleh = datagen_oleh_oleh.flow_from_directory(\n",
        "    data_dir,\n",
        "    target_size=image_size,\n",
        "    batch_size=batch_size,\n",
        "    class_mode='categorical',\n",
        "    subset='training',\n",
        "    shuffle=True\n",
        ")\n",
        "\n",
        "val_gen_oleh_oleh = datagen_oleh_oleh.flow_from_directory(\n",
        "    data_dir,\n",
        "    target_size=image_size,\n",
        "    batch_size=batch_size,\n",
        "    class_mode='categorical',\n",
        "    subset='validation',\n",
        "    shuffle=False\n",
        ")\n",
        "\n",
        "# Create a datagen for 'souvenir'\n",
        "datagen_souvenir = ImageDataGenerator(\n",
        "    preprocessing_function=preprocess_input,\n",
        "    validation_split=0.2,\n",
        "    horizontal_flip=True,\n",
        "    rotation_range=20,\n",
        "    zoom_range=0.2,\n",
        "    shear_range=0.2\n",
        ")\n",
        "\n",
        "train_gen_souvenir = datagen_souvenir.flow_from_directory(\n",
        "    souvenir_data_dir,\n",
        "    target_size=image_size,\n",
        "    batch_size=batch_size,\n",
        "    class_mode='categorical',\n",
        "    subset='training',\n",
        "    shuffle=True\n",
        ")\n",
        "\n",
        "val_gen_souvenir = datagen_souvenir.flow_from_directory(\n",
        "    souvenir_data_dir,\n",
        "    target_size=image_size,\n",
        "    batch_size=batch_size,\n",
        "    class_mode='categorical',\n",
        "    subset='validation',\n",
        "    shuffle=False\n",
        ")\n",
        "\n",
        "# Combine generators if needed, or train separately for each category\n",
        "# For simplicity, let's assume we train on 'oleh_oleh' for now.\n",
        "# If you need to train on both, we'll need to combine the generators or train two separate models.\n",
        "train_gen = train_gen_oleh_oleh\n",
        "val_gen = val_gen_oleh_oleh\n",
        "\n",
        "\n",
        "# 🔍 Cek kelas\n",
        "print(\"Kelas:\", train_gen.class_indices)\n",
        "\n",
        "# 🧠 BASE MODEL\n",
        "base_model = VGG16(weights='imagenet', include_top=False, input_shape=(128, 128, 3))\n",
        "for layer in base_model.layers:\n",
        "    layer.trainable = False  # Freeze base model\n",
        "\n",
        "# 🏗️ CUSTOM HEAD\n",
        "x = base_model.output\n",
        "x = GlobalAveragePooling2D()(x)\n",
        "x = Dense(128, activation='relu')(x)\n",
        "x = Dropout(0.5)(x)\n",
        "predictions = Dense(train_gen.num_classes, activation='softmax')(x)\n",
        "\n",
        "model = Model(inputs=base_model.input, outputs=predictions)\n",
        "\n",
        "# ⚙️ COMPILE\n",
        "model.compile(optimizer=Adam(learning_rate=1e-4),\n",
        "              loss='categorical_crossentropy',\n",
        "              metrics=['accuracy'])\n",
        "\n",
        "# 📌 CALLBACK\n",
        "callbacks = [\n",
        "    EarlyStopping(monitor='val_loss', patience=5, restore_best_weights=True),\n",
        "    ModelCheckpoint('best_model_vgg16.h5', save_best_only=True)\n",
        "]\n",
        "\n",
        "# 🚀 TRAINING\n",
        "history = model.fit(\n",
        "    train_gen,\n",
        "    validation_data=val_gen,\n",
        "    epochs=epochs,\n",
        "    callbacks=callbacks,\n",
        "    verbose=1\n",
        ")\n",
        "\n",
        "# 📈 VISUALISASI\n",
        "plt.figure(figsize=(12, 5))\n",
        "\n",
        "plt.subplot(1, 2, 1)\n",
        "plt.plot(history.history['accuracy'], label='Train Acc')\n",
        "plt.plot(history.history['val_accuracy'], label='Val Acc')\n",
        "plt.legend()\n",
        "plt.title(\"Accuracy\")\n",
        "\n",
        "plt.subplot(1, 2, 2)\n",
        "plt.plot(history.history['loss'], label='Train Loss')\n",
        "plt.plot(history.history['val_loss'], label='Val Loss')\n",
        "plt.legend()\n",
        "plt.title(\"Loss\")\n",
        "\n",
        "plt.tight_layout()\n",
        "plt.show()"
      ],
      "metadata": {
        "colab": {
          "base_uri": "https://localhost:8080/",
          "height": 1000
        },
        "id": "ygY6ve2m9jvs",
        "outputId": "8f427766-4345-43d2-929d-5111ab763e78"
      },
      "execution_count": null,
      "outputs": [
        {
          "output_type": "stream",
          "name": "stdout",
          "text": [
            "Found 479 images belonging to 2 classes.\n",
            "Found 118 images belonging to 2 classes.\n",
            "Found 240 images belonging to 1 classes.\n",
            "Found 60 images belonging to 1 classes.\n",
            "Kelas: {'abon_gulung': 0, 'keripik_keladi': 1}\n",
            "Downloading data from https://storage.googleapis.com/tensorflow/keras-applications/vgg16/vgg16_weights_tf_dim_ordering_tf_kernels_notop.h5\n",
            "\u001b[1m58889256/58889256\u001b[0m \u001b[32m━━━━━━━━━━━━━━━━━━━━\u001b[0m\u001b[37m\u001b[0m \u001b[1m1s\u001b[0m 0us/step\n"
          ]
        },
        {
          "output_type": "stream",
          "name": "stderr",
          "text": [
            "/usr/local/lib/python3.11/dist-packages/keras/src/trainers/data_adapters/py_dataset_adapter.py:121: UserWarning: Your `PyDataset` class should call `super().__init__(**kwargs)` in its constructor. `**kwargs` can include `workers`, `use_multiprocessing`, `max_queue_size`. Do not pass these arguments to `fit()`, as they will be ignored.\n",
            "  self._warn_if_super_not_called()\n"
          ]
        },
        {
          "output_type": "stream",
          "name": "stdout",
          "text": [
            "Epoch 1/10\n",
            "\u001b[1m15/15\u001b[0m \u001b[32m━━━━━━━━━━━━━━━━━━━━\u001b[0m\u001b[37m\u001b[0m \u001b[1m0s\u001b[0m 8s/step - accuracy: 0.4067 - loss: 7.6525"
          ]
        },
        {
          "output_type": "stream",
          "name": "stderr",
          "text": [
            "/usr/local/lib/python3.11/dist-packages/keras/src/trainers/data_adapters/py_dataset_adapter.py:121: UserWarning: Your `PyDataset` class should call `super().__init__(**kwargs)` in its constructor. `**kwargs` can include `workers`, `use_multiprocessing`, `max_queue_size`. Do not pass these arguments to `fit()`, as they will be ignored.\n",
            "  self._warn_if_super_not_called()\n",
            "WARNING:absl:You are saving your model as an HDF5 file via `model.save()` or `keras.saving.save_model(model)`. This file format is considered legacy. We recommend using instead the native Keras format, e.g. `model.save('my_model.keras')` or `keras.saving.save_model(model, 'my_model.keras')`. \n"
          ]
        },
        {
          "output_type": "stream",
          "name": "stdout",
          "text": [
            "\b\b\b\b\b\b\b\b\b\b\b\b\b\b\b\b\b\b\b\b\b\b\b\b\b\b\b\b\b\b\b\b\b\b\b\b\b\b\b\b\b\b\b\b\b\b\b\b\b\b\b\b\b\b\b\b\b\b\b\b\b\b\b\b\b\b\b\b\b\b\b\r\u001b[1m15/15\u001b[0m \u001b[32m━━━━━━━━━━━━━━━━━━━━\u001b[0m\u001b[37m\u001b[0m \u001b[1m178s\u001b[0m 11s/step - accuracy: 0.4088 - loss: 7.6280 - val_accuracy: 0.3644 - val_loss: 5.2909\n",
            "Epoch 2/10\n",
            "\u001b[1m15/15\u001b[0m \u001b[32m━━━━━━━━━━━━━━━━━━━━\u001b[0m\u001b[37m\u001b[0m \u001b[1m0s\u001b[0m 2s/step - accuracy: 0.5333 - loss: 4.9457"
          ]
        },
        {
          "output_type": "stream",
          "name": "stderr",
          "text": [
            "WARNING:absl:You are saving your model as an HDF5 file via `model.save()` or `keras.saving.save_model(model)`. This file format is considered legacy. We recommend using instead the native Keras format, e.g. `model.save('my_model.keras')` or `keras.saving.save_model(model, 'my_model.keras')`. \n"
          ]
        },
        {
          "output_type": "stream",
          "name": "stdout",
          "text": [
            "\b\b\b\b\b\b\b\b\b\b\b\b\b\b\b\b\b\b\b\b\b\b\b\b\b\b\b\b\b\b\b\b\b\b\b\b\b\b\b\b\b\b\b\b\b\b\b\b\b\b\b\b\b\b\b\b\b\b\b\b\b\b\b\b\b\b\b\b\b\b\b\r\u001b[1m15/15\u001b[0m \u001b[32m━━━━━━━━━━━━━━━━━━━━\u001b[0m\u001b[37m\u001b[0m \u001b[1m33s\u001b[0m 2s/step - accuracy: 0.5337 - loss: 4.9335 - val_accuracy: 0.5169 - val_loss: 2.8517\n",
            "Epoch 3/10\n",
            "\u001b[1m15/15\u001b[0m \u001b[32m━━━━━━━━━━━━━━━━━━━━\u001b[0m\u001b[37m\u001b[0m \u001b[1m0s\u001b[0m 2s/step - accuracy: 0.5700 - loss: 3.7754"
          ]
        },
        {
          "output_type": "stream",
          "name": "stderr",
          "text": [
            "WARNING:absl:You are saving your model as an HDF5 file via `model.save()` or `keras.saving.save_model(model)`. This file format is considered legacy. We recommend using instead the native Keras format, e.g. `model.save('my_model.keras')` or `keras.saving.save_model(model, 'my_model.keras')`. \n"
          ]
        },
        {
          "output_type": "stream",
          "name": "stdout",
          "text": [
            "\b\b\b\b\b\b\b\b\b\b\b\b\b\b\b\b\b\b\b\b\b\b\b\b\b\b\b\b\b\b\b\b\b\b\b\b\b\b\b\b\b\b\b\b\b\b\b\b\b\b\b\b\b\b\b\b\b\b\b\b\b\b\b\b\b\b\b\b\b\b\b\r\u001b[1m15/15\u001b[0m \u001b[32m━━━━━━━━━━━━━━━━━━━━\u001b[0m\u001b[37m\u001b[0m \u001b[1m31s\u001b[0m 2s/step - accuracy: 0.5713 - loss: 3.7615 - val_accuracy: 0.6610 - val_loss: 1.8250\n",
            "Epoch 4/10\n",
            "\u001b[1m15/15\u001b[0m \u001b[32m━━━━━━━━━━━━━━━━━━━━\u001b[0m\u001b[37m\u001b[0m \u001b[1m0s\u001b[0m 2s/step - accuracy: 0.7099 - loss: 2.3176"
          ]
        },
        {
          "output_type": "stream",
          "name": "stderr",
          "text": [
            "WARNING:absl:You are saving your model as an HDF5 file via `model.save()` or `keras.saving.save_model(model)`. This file format is considered legacy. We recommend using instead the native Keras format, e.g. `model.save('my_model.keras')` or `keras.saving.save_model(model, 'my_model.keras')`. \n"
          ]
        },
        {
          "output_type": "stream",
          "name": "stdout",
          "text": [
            "\b\b\b\b\b\b\b\b\b\b\b\b\b\b\b\b\b\b\b\b\b\b\b\b\b\b\b\b\b\b\b\b\b\b\b\b\b\b\b\b\b\b\b\b\b\b\b\b\b\b\b\b\b\b\b\b\b\b\b\b\b\b\b\b\b\b\b\b\b\b\b\r\u001b[1m15/15\u001b[0m \u001b[32m━━━━━━━━━━━━━━━━━━━━\u001b[0m\u001b[37m\u001b[0m \u001b[1m33s\u001b[0m 2s/step - accuracy: 0.7094 - loss: 2.3178 - val_accuracy: 0.6525 - val_loss: 1.5817\n",
            "Epoch 5/10\n",
            "\u001b[1m15/15\u001b[0m \u001b[32m━━━━━━━━━━━━━━━━━━━━\u001b[0m\u001b[37m\u001b[0m \u001b[1m0s\u001b[0m 2s/step - accuracy: 0.7299 - loss: 1.6949"
          ]
        },
        {
          "output_type": "stream",
          "name": "stderr",
          "text": [
            "WARNING:absl:You are saving your model as an HDF5 file via `model.save()` or `keras.saving.save_model(model)`. This file format is considered legacy. We recommend using instead the native Keras format, e.g. `model.save('my_model.keras')` or `keras.saving.save_model(model, 'my_model.keras')`. \n"
          ]
        },
        {
          "output_type": "stream",
          "name": "stdout",
          "text": [
            "\b\b\b\b\b\b\b\b\b\b\b\b\b\b\b\b\b\b\b\b\b\b\b\b\b\b\b\b\b\b\b\b\b\b\b\b\b\b\b\b\b\b\b\b\b\b\b\b\b\b\b\b\b\b\b\b\b\b\b\b\b\b\b\b\b\b\b\b\b\b\b\r\u001b[1m15/15\u001b[0m \u001b[32m━━━━━━━━━━━━━━━━━━━━\u001b[0m\u001b[37m\u001b[0m \u001b[1m32s\u001b[0m 2s/step - accuracy: 0.7316 - loss: 1.7003 - val_accuracy: 0.7542 - val_loss: 1.0234\n",
            "Epoch 6/10\n",
            "\u001b[1m15/15\u001b[0m \u001b[32m━━━━━━━━━━━━━━━━━━━━\u001b[0m\u001b[37m\u001b[0m \u001b[1m0s\u001b[0m 2s/step - accuracy: 0.8035 - loss: 1.5242"
          ]
        },
        {
          "output_type": "stream",
          "name": "stderr",
          "text": [
            "WARNING:absl:You are saving your model as an HDF5 file via `model.save()` or `keras.saving.save_model(model)`. This file format is considered legacy. We recommend using instead the native Keras format, e.g. `model.save('my_model.keras')` or `keras.saving.save_model(model, 'my_model.keras')`. \n"
          ]
        },
        {
          "output_type": "stream",
          "name": "stdout",
          "text": [
            "\b\b\b\b\b\b\b\b\b\b\b\b\b\b\b\b\b\b\b\b\b\b\b\b\b\b\b\b\b\b\b\b\b\b\b\b\b\b\b\b\b\b\b\b\b\b\b\b\b\b\b\b\b\b\b\b\b\b\b\b\b\b\b\b\b\b\b\b\b\b\b\r\u001b[1m15/15\u001b[0m \u001b[32m━━━━━━━━━━━━━━━━━━━━\u001b[0m\u001b[37m\u001b[0m \u001b[1m31s\u001b[0m 2s/step - accuracy: 0.8031 - loss: 1.5257 - val_accuracy: 0.8475 - val_loss: 0.9588\n",
            "Epoch 7/10\n",
            "\u001b[1m15/15\u001b[0m \u001b[32m━━━━━━━━━━━━━━━━━━━━\u001b[0m\u001b[37m\u001b[0m \u001b[1m0s\u001b[0m 2s/step - accuracy: 0.8690 - loss: 0.9716"
          ]
        },
        {
          "output_type": "stream",
          "name": "stderr",
          "text": [
            "WARNING:absl:You are saving your model as an HDF5 file via `model.save()` or `keras.saving.save_model(model)`. This file format is considered legacy. We recommend using instead the native Keras format, e.g. `model.save('my_model.keras')` or `keras.saving.save_model(model, 'my_model.keras')`. \n"
          ]
        },
        {
          "output_type": "stream",
          "name": "stdout",
          "text": [
            "\b\b\b\b\b\b\b\b\b\b\b\b\b\b\b\b\b\b\b\b\b\b\b\b\b\b\b\b\b\b\b\b\b\b\b\b\b\b\b\b\b\b\b\b\b\b\b\b\b\b\b\b\b\b\b\b\b\b\b\b\b\b\b\b\b\b\b\b\b\b\b\r\u001b[1m15/15\u001b[0m \u001b[32m━━━━━━━━━━━━━━━━━━━━\u001b[0m\u001b[37m\u001b[0m \u001b[1m36s\u001b[0m 2s/step - accuracy: 0.8665 - loss: 0.9810 - val_accuracy: 0.8390 - val_loss: 0.5380\n",
            "Epoch 8/10\n",
            "\u001b[1m15/15\u001b[0m \u001b[32m━━━━━━━━━━━━━━━━━━━━\u001b[0m\u001b[37m\u001b[0m \u001b[1m0s\u001b[0m 2s/step - accuracy: 0.8100 - loss: 1.3670"
          ]
        },
        {
          "output_type": "stream",
          "name": "stderr",
          "text": [
            "WARNING:absl:You are saving your model as an HDF5 file via `model.save()` or `keras.saving.save_model(model)`. This file format is considered legacy. We recommend using instead the native Keras format, e.g. `model.save('my_model.keras')` or `keras.saving.save_model(model, 'my_model.keras')`. \n"
          ]
        },
        {
          "output_type": "stream",
          "name": "stdout",
          "text": [
            "\b\b\b\b\b\b\b\b\b\b\b\b\b\b\b\b\b\b\b\b\b\b\b\b\b\b\b\b\b\b\b\b\b\b\b\b\b\b\b\b\b\b\b\b\b\b\b\b\b\b\b\b\b\b\b\b\b\b\b\b\b\b\b\b\b\b\b\b\b\b\b\r\u001b[1m15/15\u001b[0m \u001b[32m━━━━━━━━━━━━━━━━━━━━\u001b[0m\u001b[37m\u001b[0m \u001b[1m32s\u001b[0m 2s/step - accuracy: 0.8118 - loss: 1.3551 - val_accuracy: 0.8814 - val_loss: 0.4324\n",
            "Epoch 9/10\n",
            "\u001b[1m15/15\u001b[0m \u001b[32m━━━━━━━━━━━━━━━━━━━━\u001b[0m\u001b[37m\u001b[0m \u001b[1m0s\u001b[0m 2s/step - accuracy: 0.7999 - loss: 1.3318"
          ]
        },
        {
          "output_type": "stream",
          "name": "stderr",
          "text": [
            "WARNING:absl:You are saving your model as an HDF5 file via `model.save()` or `keras.saving.save_model(model)`. This file format is considered legacy. We recommend using instead the native Keras format, e.g. `model.save('my_model.keras')` or `keras.saving.save_model(model, 'my_model.keras')`. \n"
          ]
        },
        {
          "output_type": "stream",
          "name": "stdout",
          "text": [
            "\b\b\b\b\b\b\b\b\b\b\b\b\b\b\b\b\b\b\b\b\b\b\b\b\b\b\b\b\b\b\b\b\b\b\b\b\b\b\b\b\b\b\b\b\b\b\b\b\b\b\b\b\b\b\b\b\b\b\b\b\b\b\b\b\b\b\b\b\b\b\b\r\u001b[1m15/15\u001b[0m \u001b[32m━━━━━━━━━━━━━━━━━━━━\u001b[0m\u001b[37m\u001b[0m \u001b[1m42s\u001b[0m 2s/step - accuracy: 0.8028 - loss: 1.3151 - val_accuracy: 0.8814 - val_loss: 0.3957\n",
            "Epoch 10/10\n",
            "\u001b[1m15/15\u001b[0m \u001b[32m━━━━━━━━━━━━━━━━━━━━\u001b[0m\u001b[37m\u001b[0m \u001b[1m33s\u001b[0m 2s/step - accuracy: 0.8910 - loss: 0.7342 - val_accuracy: 0.8898 - val_loss: 0.4395\n"
          ]
        },
        {
          "output_type": "display_data",
          "data": {
            "text/plain": [
              "<Figure size 1200x500 with 2 Axes>"
            ],
            "image/png": "[encoded data removed]"
          },
          "metadata": {}
        }
      ]
    },
    {
      "cell_type": "code",
      "source": [
        "import numpy as np\n",
        "import seaborn as sns\n",
        "from sklearn.metrics import confusion_matrix, classification_report\n",
        "\n",
        "# 🔎 AMBIL PREDIKSI DI VALIDATION SET\n",
        "val_gen.reset()  # Penting biar gak offset prediksi\n",
        "Y_pred = model.predict(val_gen, verbose=1)\n",
        "y_pred = np.argmax(Y_pred, axis=1)\n",
        "\n",
        "# 🔢 AMBIL LABEL ASLI\n",
        "y_true = val_gen.classes\n",
        "\n",
        "# 🎯 CONFUSION MATRIX\n",
        "cm = confusion_matrix(y_true, y_pred)\n",
        "labels = list(val_gen.class_indices.keys())\n",
        "\n",
        "# 🧾 REPORT\n",
        "print(\"\\n📋 Classification Report:\")\n",
        "print(classification_report(y_true, y_pred, target_names=labels))\n",
        "\n",
        "# 📊 PLOT CONFUSION MATRIX\n",
        "plt.figure(figsize=(6, 5))\n",
        "sns.heatmap(cm, annot=True, fmt='d', cmap='Blues',\n",
        "            xticklabels=labels, yticklabels=labels)\n",
        "plt.xlabel('Predicted')\n",
        "plt.ylabel('Actual')\n",
        "plt.title('Confusion Matrix')\n",
        "plt.show()\n"
      ],
      "metadata": {
        "colab": {
          "base_uri": "https://localhost:8080/",
          "height": 704
        },
        "id": "OQ3bt2U8JMXM",
        "outputId": "f1f3174a-7da9-4169-8e67-9d65c42aaf5a"
      },
      "execution_count": null,
      "outputs": [
        {
          "output_type": "stream",
          "name": "stdout",
          "text": [
            "\u001b[1m4/4\u001b[0m \u001b[32m━━━━━━━━━━━━━━━━━━━━\u001b[0m\u001b[37m\u001b[0m \u001b[1m8s\u001b[0m 2s/step\n",
            "\n",
            "📋 Classification Report:\n",
            "                precision    recall  f1-score   support\n",
            "\n",
            "   abon_gulung       0.92      0.92      0.92        59\n",
            "keripik_keladi       0.92      0.92      0.92        59\n",
            "\n",
            "      accuracy                           0.92       118\n",
            "     macro avg       0.92      0.92      0.92       118\n",
            "  weighted avg       0.92      0.92      0.92       118\n",
            "\n"
          ]
        },
        {
          "output_type": "display_data",
          "data": {
            "text/plain": [
              "<Figure size 600x500 with 2 Axes>"
            ],
            "image/png": "[encoded data removed]"
          },
          "metadata": {}
        }
      ]
    },
    {
      "cell_type": "code",
      "source": [
        "# ===========================================\n",
        "# 🔮 TRAINING NEURAL COLLABORATIVE FILTERING\n",
        "# Untuk Sistem Rekomendasi Oleh-Oleh & Souvenir\n",
        "# ===========================================\n",
        "\n",
        "import pandas as pd\n",
        "import numpy as np\n",
        "import tensorflow as tf\n",
        "from sklearn.model_selection import train_test_split\n",
        "from sklearn.preprocessing import LabelEncoder\n",
        "from tensorflow.keras.layers import Input, Embedding, Flatten, Concatenate, Dense\n",
        "from tensorflow.keras.models import Model\n",
        "import matplotlib.pyplot as plt\n",
        "import joblib # Import joblib to save the encoders\n",
        "\n",
        "# ============================\n",
        "# 1. LOAD DATASET USER-RATING\n",
        "# ============================\n",
        "\n",
        "# Ganti path sesuai lokasi CSV kamu di Google Drive\n",
        "df = pd.read_csv('/content/drive/MyDrive/data_oleh_oleh/user_rating_cleaned.csv')  # Format: user_id, item_id, rating\n",
        "print(\"📦 Data Loaded:\", df.head())\n",
        "\n",
        "# ============================\n",
        "# 2. ENCODE USER & ITEM\n",
        "# ============================\n",
        "\n",
        "user_encoder = LabelEncoder()\n",
        "item_encoder = LabelEncoder()\n",
        "\n",
        "df['user'] = user_encoder.fit_transform(df['user_id'])\n",
        "df['item'] = item_encoder.fit_transform(df['tempat_id']) # Use tempat_id as item_id\n",
        "\n",
        "num_users = df['user'].nunique()\n",
        "num_items = df['item'].nunique()\n",
        "\n",
        "print(f\"👤 Total Users: {num_users}, 📍 Total Items: {num_items}\")\n",
        "\n",
        "# ============================\n",
        "# 3. SPLIT DATA TRAIN/TEST\n",
        "# ============================\n",
        "\n",
        "X_train_user, X_test_user, X_train_item, X_test_item, y_train, y_test = train_test_split(\n",
        "    df['user'].values, df['item'].values, df['rating'].values,\n",
        "    test_size=0.2, random_state=42\n",
        ")\n",
        "\n",
        "# ============================\n",
        "# 4. BANGUN MODEL NCF\n",
        "# ============================\n",
        "\n",
        "user_input = Input(shape=(1,))\n",
        "item_input = Input(shape=(1,))\n",
        "\n",
        "user_embed = Embedding(input_dim=num_users, output_dim=50)(user_input)\n",
        "item_embed = Embedding(input_dim=num_items, output_dim=50)(item_input)\n",
        "\n",
        "user_vec = Flatten()(user_embed)\n",
        "item_vec = Flatten()(item_embed)\n",
        "\n",
        "x = Concatenate()([user_vec, item_vec])\n",
        "x = Dense(128, activation='relu')(x)\n",
        "x = Dense(64, activation='relu')(x)\n",
        "x = Dense(1)(x)  # Prediksi rating\n",
        "\n",
        "model = Model(inputs=[user_input, item_input], outputs=x)\n",
        "model.compile(optimizer='adam', loss='mse', metrics=['mae'])\n",
        "model.summary()\n",
        "\n",
        "# ============================\n",
        "# 5. TRAINING\n",
        "# ============================\n",
        "\n",
        "history = model.fit(\n",
        "    x=[X_train_user, X_train_item],\n",
        "    y=y_train,\n",
        "    validation_data=([X_test_user, X_test_item], y_test),\n",
        "    epochs=20,\n",
        "    batch_size=64,\n",
        "    verbose=1\n",
        ")\n",
        "\n",
        "# ============================\n",
        "# 6. VISUALISASI\n",
        "# ============================\n",
        "\n",
        "plt.plot(history.history['loss'], label='Train Loss')\n",
        "plt.plot(history.history['val_loss'], label='Val Loss')\n",
        "plt.title(\"NCF Loss Curve\")\n",
        "plt.xlabel(\"Epochs\")\n",
        "plt.ylabel(\"Loss\")\n",
        "plt.legend()\n",
        "plt.grid(True)\n",
        "plt.show()\n",
        "\n",
        "# ============================\n",
        "# 7. PREDIKSI\n",
        "# ============================\n",
        "\n",
        "# Coba prediksi rating user 1 ke item T001\n",
        "sample_user_id = '1'\n",
        "sample_item_id = 'T001'\n",
        "\n",
        "# Check if the item_id exists in the encoder's classes\n",
        "if sample_item_id in item_encoder.classes_:\n",
        "    sample_user_encoded = user_encoder.transform([sample_user_id])[0] # Encode user_id '1'\n",
        "    sample_item_encoded = item_encoder.transform([sample_item_id])[0] # Encode tempat_id 'T001'\n",
        "\n",
        "    # Reshape inputs for prediction\n",
        "    user_input_for_pred = np.array([sample_user_encoded])\n",
        "    item_input_for_pred = np.array([sample_item_encoded])\n",
        "\n",
        "    pred = model.predict([user_input_for_pred, item_input_for_pred])\n",
        "    print(f\"⭐ Prediksi rating user {sample_user_id} (encoded: {sample_user_encoded}) ke item {sample_item_id} (encoded: {sample_item_encoded}): {pred[0][0]:.2f}\")\n",
        "else:\n",
        "    print(f\"❌ Item ID '{sample_item_id}' not found in the dataset.\")\n",
        "\n",
        "\n",
        "# ============================\n",
        "# 8. SAVE MODEL DAN ENCODER\n",
        "# ============================\n",
        "\n",
        "model.save('model_ncf_rekomendasi.h5')\n",
        "joblib.dump(user_encoder, 'user_encoder.pkl')\n",
        "joblib.dump(item_encoder, 'item_encoder.pkl')\n",
        "\n",
        "print(\"✅ Model & encoder disimpan.\")"
      ],
      "metadata": {
        "colab": {
          "base_uri": "https://localhost:8080/",
          "height": 1000
        },
        "id": "Vlne_JwhJroB",
        "outputId": "e968e243-5144-4def-aa37-ac49d53c824d"
      },
      "execution_count": null,
      "outputs": [
        {
          "output_type": "stream",
          "name": "stdout",
          "text": [
            "📦 Data Loaded:    user_id tempat_id  rating\n",
            "0        1      T001       4\n",
            "1        1      T002       5\n",
            "2        2      T003       4\n",
            "3        2      T004       5\n",
            "4        3      T005       3\n",
            "👤 Total Users: 3, 📍 Total Items: 6\n"
          ]
        },
        {
          "output_type": "display_data",
          "data": {
            "text/plain": [
              "\u001b[1mModel: \"functional_2\"\u001b[0m\n"
            ],
            "text/html": [
              "<pre style=\"white-space:pre;overflow-x:auto;line-height:normal;font-family:Menlo,'DejaVu Sans Mono',consolas,'Courier New',monospace\"><span style=\"font-weight: bold\">Model: \"functional_2\"</span>\n",
              "</pre>\n"
            ]
          },
          "metadata": {}
        },
        {
          "output_type": "display_data",
          "data": {
            "text/plain": [
              "┏━━━━━━━━━━━━━━━━━━━━━┳━━━━━━━━━━━━━━━━━━━┳━━━━━━━━━━━━┳━━━━━━━━━━━━━━━━━━━┓\n",
              "┃\u001b[1m \u001b[0m\u001b[1mLayer (type)       \u001b[0m\u001b[1m \u001b[0m┃\u001b[1m \u001b[0m\u001b[1mOutput Shape     \u001b[0m\u001b[1m \u001b[0m┃\u001b[1m \u001b[0m\u001b[1m   Param #\u001b[0m\u001b[1m \u001b[0m┃\u001b[1m \u001b[0m\u001b[1mConnected to     \u001b[0m\u001b[1m \u001b[0m┃\n",
              "┡━━━━━━━━━━━━━━━━━━━━━╇━━━━━━━━━━━━━━━━━━━╇━━━━━━━━━━━━╇━━━━━━━━━━━━━━━━━━━┩\n",
              "│ input_layer_3       │ (\u001b[38;5;45mNone\u001b[0m, \u001b[38;5;34m1\u001b[0m)         │          \u001b[38;5;34m0\u001b[0m │ -                 │\n",
              "│ (\u001b[38;5;33mInputLayer\u001b[0m)        │                   │            │                   │\n",
              "├─────────────────────┼───────────────────┼────────────┼───────────────────┤\n",
              "│ input_layer_4       │ (\u001b[38;5;45mNone\u001b[0m, \u001b[38;5;34m1\u001b[0m)         │          \u001b[38;5;34m0\u001b[0m │ -                 │\n",
              "│ (\u001b[38;5;33mInputLayer\u001b[0m)        │                   │            │                   │\n",
              "├─────────────────────┼───────────────────┼────────────┼───────────────────┤\n",
              "│ embedding_2         │ (\u001b[38;5;45mNone\u001b[0m, \u001b[38;5;34m1\u001b[0m, \u001b[38;5;34m50\u001b[0m)     │        \u001b[38;5;34m150\u001b[0m │ input_layer_3[\u001b[38;5;34m0\u001b[0m]… │\n",
              "│ (\u001b[38;5;33mEmbedding\u001b[0m)         │                   │            │                   │\n",
              "├─────────────────────┼───────────────────┼────────────┼───────────────────┤\n",
              "│ embedding_3         │ (\u001b[38;5;45mNone\u001b[0m, \u001b[38;5;34m1\u001b[0m, \u001b[38;5;34m50\u001b[0m)     │        \u001b[38;5;34m300\u001b[0m │ input_layer_4[\u001b[38;5;34m0\u001b[0m]… │\n",
              "│ (\u001b[38;5;33mEmbedding\u001b[0m)         │                   │            │                   │\n",
              "├─────────────────────┼───────────────────┼────────────┼───────────────────┤\n",
              "│ flatten_2 (\u001b[38;5;33mFlatten\u001b[0m) │ (\u001b[38;5;45mNone\u001b[0m, \u001b[38;5;34m50\u001b[0m)        │          \u001b[38;5;34m0\u001b[0m │ embedding_2[\u001b[38;5;34m0\u001b[0m][\u001b[38;5;34m0\u001b[0m] │\n",
              "├─────────────────────┼───────────────────┼────────────┼───────────────────┤\n",
              "│ flatten_3 (\u001b[38;5;33mFlatten\u001b[0m) │ (\u001b[38;5;45mNone\u001b[0m, \u001b[38;5;34m50\u001b[0m)        │          \u001b[38;5;34m0\u001b[0m │ embedding_3[\u001b[38;5;34m0\u001b[0m][\u001b[38;5;34m0\u001b[0m] │\n",
              "├─────────────────────┼───────────────────┼────────────┼───────────────────┤\n",
              "│ concatenate_1       │ (\u001b[38;5;45mNone\u001b[0m, \u001b[38;5;34m100\u001b[0m)       │          \u001b[38;5;34m0\u001b[0m │ flatten_2[\u001b[38;5;34m0\u001b[0m][\u001b[38;5;34m0\u001b[0m],  │\n",
              "│ (\u001b[38;5;33mConcatenate\u001b[0m)       │                   │            │ flatten_3[\u001b[38;5;34m0\u001b[0m][\u001b[38;5;34m0\u001b[0m]   │\n",
              "├─────────────────────┼───────────────────┼────────────┼───────────────────┤\n",
              "│ dense_5 (\u001b[38;5;33mDense\u001b[0m)     │ (\u001b[38;5;45mNone\u001b[0m, \u001b[38;5;34m128\u001b[0m)       │     \u001b[38;5;34m12,928\u001b[0m │ concatenate_1[\u001b[38;5;34m0\u001b[0m]… │\n",
              "├─────────────────────┼───────────────────┼────────────┼───────────────────┤\n",
              "│ dense_6 (\u001b[38;5;33mDense\u001b[0m)     │ (\u001b[38;5;45mNone\u001b[0m, \u001b[38;5;34m64\u001b[0m)        │      \u001b[38;5;34m8,256\u001b[0m │ dense_5[\u001b[38;5;34m0\u001b[0m][\u001b[38;5;34m0\u001b[0m]     │\n",
              "├─────────────────────┼───────────────────┼────────────┼───────────────────┤\n",
              "│ dense_7 (\u001b[38;5;33mDense\u001b[0m)     │ (\u001b[38;5;45mNone\u001b[0m, \u001b[38;5;34m1\u001b[0m)         │         \u001b[38;5;34m65\u001b[0m │ dense_6[\u001b[38;5;34m0\u001b[0m][\u001b[38;5;34m0\u001b[0m]     │\n",
              "└─────────────────────┴───────────────────┴────────────┴───────────────────┘\n"
            ],
            "text/html": [
              "<pre style=\"white-space:pre;overflow-x:auto;line-height:normal;font-family:Menlo,'DejaVu Sans Mono',consolas,'Courier New',monospace\">┏━━━━━━━━━━━━━━━━━━━━━┳━━━━━━━━━━━━━━━━━━━┳━━━━━━━━━━━━┳━━━━━━━━━━━━━━━━━━━┓\n",
              "┃<span style=\"font-weight: bold\"> Layer (type)        </span>┃<span style=\"font-weight: bold\"> Output Shape      </span>┃<span style=\"font-weight: bold\">    Param # </span>┃<span style=\"font-weight: bold\"> Connected to      </span>┃\n",
              "┡━━━━━━━━━━━━━━━━━━━━━╇━━━━━━━━━━━━━━━━━━━╇━━━━━━━━━━━━╇━━━━━━━━━━━━━━━━━━━┩\n",
              "│ input_layer_3       │ (<span style=\"color: #00d7ff; text-decoration-color: #00d7ff\">None</span>, <span style=\"color: #00af00; text-decoration-color: #00af00\">1</span>)         │          <span style=\"color: #00af00; text-decoration-color: #00af00\">0</span> │ -                 │\n",
              "│ (<span style=\"color: #0087ff; text-decoration-color: #0087ff\">InputLayer</span>)        │                   │            │                   │\n",
              "├─────────────────────┼───────────────────┼────────────┼───────────────────┤\n",
              "│ input_layer_4       │ (<span style=\"color: #00d7ff; text-decoration-color: #00d7ff\">None</span>, <span style=\"color: #00af00; text-decoration-color: #00af00\">1</span>)         │          <span style=\"color: #00af00; text-decoration-color: #00af00\">0</span> │ -                 │\n",
              "│ (<span style=\"color: #0087ff; text-decoration-color: #0087ff\">InputLayer</span>)        │                   │            │                   │\n",
              "├─────────────────────┼───────────────────┼────────────┼───────────────────┤\n",
              "│ embedding_2         │ (<span style=\"color: #00d7ff; text-decoration-color: #00d7ff\">None</span>, <span style=\"color: #00af00; text-decoration-color: #00af00\">1</span>, <span style=\"color: #00af00; text-decoration-color: #00af00\">50</span>)     │        <span style=\"color: #00af00; text-decoration-color: #00af00\">150</span> │ input_layer_3[<span style=\"color: #00af00; text-decoration-color: #00af00\">0</span>]… │\n",
              "│ (<span style=\"color: #0087ff; text-decoration-color: #0087ff\">Embedding</span>)         │                   │            │                   │\n",
              "├─────────────────────┼───────────────────┼────────────┼───────────────────┤\n",
              "│ embedding_3         │ (<span style=\"color: #00d7ff; text-decoration-color: #00d7ff\">None</span>, <span style=\"color: #00af00; text-decoration-color: #00af00\">1</span>, <span style=\"color: #00af00; text-decoration-color: #00af00\">50</span>)     │        <span style=\"color: #00af00; text-decoration-color: #00af00\">300</span> │ input_layer_4[<span style=\"color: #00af00; text-decoration-color: #00af00\">0</span>]… │\n",
              "│ (<span style=\"color: #0087ff; text-decoration-color: #0087ff\">Embedding</span>)         │                   │            │                   │\n",
              "├─────────────────────┼───────────────────┼────────────┼───────────────────┤\n",
              "│ flatten_2 (<span style=\"color: #0087ff; text-decoration-color: #0087ff\">Flatten</span>) │ (<span style=\"color: #00d7ff; text-decoration-color: #00d7ff\">None</span>, <span style=\"color: #00af00; text-decoration-color: #00af00\">50</span>)        │          <span style=\"color: #00af00; text-decoration-color: #00af00\">0</span> │ embedding_2[<span style=\"color: #00af00; text-decoration-color: #00af00\">0</span>][<span style=\"color: #00af00; text-decoration-color: #00af00\">0</span>] │\n",
              "├─────────────────────┼───────────────────┼────────────┼───────────────────┤\n",
              "│ flatten_3 (<span style=\"color: #0087ff; text-decoration-color: #0087ff\">Flatten</span>) │ (<span style=\"color: #00d7ff; text-decoration-color: #00d7ff\">None</span>, <span style=\"color: #00af00; text-decoration-color: #00af00\">50</span>)        │          <span style=\"color: #00af00; text-decoration-color: #00af00\">0</span> │ embedding_3[<span style=\"color: #00af00; text-decoration-color: #00af00\">0</span>][<span style=\"color: #00af00; text-decoration-color: #00af00\">0</span>] │\n",
              "├─────────────────────┼───────────────────┼────────────┼───────────────────┤\n",
              "│ concatenate_1       │ (<span style=\"color: #00d7ff; text-decoration-color: #00d7ff\">None</span>, <span style=\"color: #00af00; text-decoration-color: #00af00\">100</span>)       │          <span style=\"color: #00af00; text-decoration-color: #00af00\">0</span> │ flatten_2[<span style=\"color: #00af00; text-decoration-color: #00af00\">0</span>][<span style=\"color: #00af00; text-decoration-color: #00af00\">0</span>],  │\n",
              "│ (<span style=\"color: #0087ff; text-decoration-color: #0087ff\">Concatenate</span>)       │                   │            │ flatten_3[<span style=\"color: #00af00; text-decoration-color: #00af00\">0</span>][<span style=\"color: #00af00; text-decoration-color: #00af00\">0</span>]   │\n",
              "├─────────────────────┼───────────────────┼────────────┼───────────────────┤\n",
              "│ dense_5 (<span style=\"color: #0087ff; text-decoration-color: #0087ff\">Dense</span>)     │ (<span style=\"color: #00d7ff; text-decoration-color: #00d7ff\">None</span>, <span style=\"color: #00af00; text-decoration-color: #00af00\">128</span>)       │     <span style=\"color: #00af00; text-decoration-color: #00af00\">12,928</span> │ concatenate_1[<span style=\"color: #00af00; text-decoration-color: #00af00\">0</span>]… │\n",
              "├─────────────────────┼───────────────────┼────────────┼───────────────────┤\n",
              "│ dense_6 (<span style=\"color: #0087ff; text-decoration-color: #0087ff\">Dense</span>)     │ (<span style=\"color: #00d7ff; text-decoration-color: #00d7ff\">None</span>, <span style=\"color: #00af00; text-decoration-color: #00af00\">64</span>)        │      <span style=\"color: #00af00; text-decoration-color: #00af00\">8,256</span> │ dense_5[<span style=\"color: #00af00; text-decoration-color: #00af00\">0</span>][<span style=\"color: #00af00; text-decoration-color: #00af00\">0</span>]     │\n",
              "├─────────────────────┼───────────────────┼────────────┼───────────────────┤\n",
              "│ dense_7 (<span style=\"color: #0087ff; text-decoration-color: #0087ff\">Dense</span>)     │ (<span style=\"color: #00d7ff; text-decoration-color: #00d7ff\">None</span>, <span style=\"color: #00af00; text-decoration-color: #00af00\">1</span>)         │         <span style=\"color: #00af00; text-decoration-color: #00af00\">65</span> │ dense_6[<span style=\"color: #00af00; text-decoration-color: #00af00\">0</span>][<span style=\"color: #00af00; text-decoration-color: #00af00\">0</span>]     │\n",
              "└─────────────────────┴───────────────────┴────────────┴───────────────────┘\n",
              "</pre>\n"
            ]
          },
          "metadata": {}
        },
        {
          "output_type": "display_data",
          "data": {
            "text/plain": [
              "\u001b[1m Total params: \u001b[0m\u001b[38;5;34m21,699\u001b[0m (84.76 KB)\n"
            ],
            "text/html": [
              "<pre style=\"white-space:pre;overflow-x:auto;line-height:normal;font-family:Menlo,'DejaVu Sans Mono',consolas,'Courier New',monospace\"><span style=\"font-weight: bold\"> Total params: </span><span style=\"color: #00af00; text-decoration-color: #00af00\">21,699</span> (84.76 KB)\n",
              "</pre>\n"
            ]
          },
          "metadata": {}
        },
        {
          "output_type": "display_data",
          "data": {
            "text/plain": [
              "\u001b[1m Trainable params: \u001b[0m\u001b[38;5;34m21,699\u001b[0m (84.76 KB)\n"
            ],
            "text/html": [
              "<pre style=\"white-space:pre;overflow-x:auto;line-height:normal;font-family:Menlo,'DejaVu Sans Mono',consolas,'Courier New',monospace\"><span style=\"font-weight: bold\"> Trainable params: </span><span style=\"color: #00af00; text-decoration-color: #00af00\">21,699</span> (84.76 KB)\n",
              "</pre>\n"
            ]
          },
          "metadata": {}
        },
        {
          "output_type": "display_data",
          "data": {
            "text/plain": [
              "\u001b[1m Non-trainable params: \u001b[0m\u001b[38;5;34m0\u001b[0m (0.00 B)\n"
            ],
            "text/html": [
              "<pre style=\"white-space:pre;overflow-x:auto;line-height:normal;font-family:Menlo,'DejaVu Sans Mono',consolas,'Courier New',monospace\"><span style=\"font-weight: bold\"> Non-trainable params: </span><span style=\"color: #00af00; text-decoration-color: #00af00\">0</span> (0.00 B)\n",
              "</pre>\n"
            ]
          },
          "metadata": {}
        },
        {
          "output_type": "stream",
          "name": "stdout",
          "text": [
            "Epoch 1/20\n",
            "\u001b[1m1/1\u001b[0m \u001b[32m━━━━━━━━━━━━━━━━━━━━\u001b[0m\u001b[37m\u001b[0m \u001b[1m2s\u001b[0m 2s/step - loss: 16.8238 - mae: 4.0394 - val_loss: 20.3903 - val_mae: 4.4865\n",
            "Epoch 2/20\n",
            "\u001b[1m1/1\u001b[0m \u001b[32m━━━━━━━━━━━━━━━━━━━━\u001b[0m\u001b[37m\u001b[0m \u001b[1m0s\u001b[0m 360ms/step - loss: 16.5515 - mae: 4.0058 - val_loss: 20.2540 - val_mae: 4.4713\n",
            "Epoch 3/20\n",
            "\u001b[1m1/1\u001b[0m \u001b[32m━━━━━━━━━━━━━━━━━━━━\u001b[0m\u001b[37m\u001b[0m \u001b[1m0s\u001b[0m 74ms/step - loss: 16.3027 - mae: 3.9749 - val_loss: 20.1178 - val_mae: 4.4560\n",
            "Epoch 4/20\n",
            "\u001b[1m1/1\u001b[0m \u001b[32m━━━━━━━━━━━━━━━━━━━━\u001b[0m\u001b[37m\u001b[0m \u001b[1m0s\u001b[0m 133ms/step - loss: 16.0960 - mae: 3.9494 - val_loss: 19.9858 - val_mae: 4.4410\n",
            "Epoch 5/20\n",
            "\u001b[1m1/1\u001b[0m \u001b[32m━━━━━━━━━━━━━━━━━━━━\u001b[0m\u001b[37m\u001b[0m \u001b[1m0s\u001b[0m 74ms/step - loss: 15.9159 - mae: 3.9269 - val_loss: 19.8610 - val_mae: 4.4269\n",
            "Epoch 6/20\n",
            "\u001b[1m1/1\u001b[0m \u001b[32m━━━━━━━━━━━━━━━━━━━━\u001b[0m\u001b[37m\u001b[0m \u001b[1m0s\u001b[0m 134ms/step - loss: 15.7511 - mae: 3.9061 - val_loss: 19.7443 - val_mae: 4.4136\n",
            "Epoch 7/20\n",
            "\u001b[1m1/1\u001b[0m \u001b[32m━━━━━━━━━━━━━━━━━━━━\u001b[0m\u001b[37m\u001b[0m \u001b[1m0s\u001b[0m 82ms/step - loss: 15.5853 - mae: 3.8849 - val_loss: 19.6287 - val_mae: 4.4005\n",
            "Epoch 8/20\n",
            "\u001b[1m1/1\u001b[0m \u001b[32m━━━━━━━━━━━━━━━━━━━━\u001b[0m\u001b[37m\u001b[0m \u001b[1m0s\u001b[0m 73ms/step - loss: 15.4130 - mae: 3.8627 - val_loss: 19.5113 - val_mae: 4.3871\n",
            "Epoch 9/20\n",
            "\u001b[1m1/1\u001b[0m \u001b[32m━━━━━━━━━━━━━━━━━━━━\u001b[0m\u001b[37m\u001b[0m \u001b[1m0s\u001b[0m 72ms/step - loss: 15.2254 - mae: 3.8385 - val_loss: 19.3897 - val_mae: 4.3732\n",
            "Epoch 10/20\n",
            "\u001b[1m1/1\u001b[0m \u001b[32m━━━━━━━━━━━━━━━━━━━━\u001b[0m\u001b[37m\u001b[0m \u001b[1m0s\u001b[0m 85ms/step - loss: 15.0242 - mae: 3.8123 - val_loss: 19.2645 - val_mae: 4.3589\n",
            "Epoch 11/20\n",
            "\u001b[1m1/1\u001b[0m \u001b[32m━━━━━━━━━━━━━━━━━━━━\u001b[0m\u001b[37m\u001b[0m \u001b[1m0s\u001b[0m 126ms/step - loss: 14.8109 - mae: 3.7845 - val_loss: 19.1373 - val_mae: 4.3442\n",
            "Epoch 12/20\n",
            "\u001b[1m1/1\u001b[0m \u001b[32m━━━━━━━━━━━━━━━━━━━━\u001b[0m\u001b[37m\u001b[0m \u001b[1m0s\u001b[0m 136ms/step - loss: 14.5823 - mae: 3.7543 - val_loss: 19.0075 - val_mae: 4.3293\n",
            "Epoch 13/20\n",
            "\u001b[1m1/1\u001b[0m \u001b[32m━━━━━━━━━━━━━━━━━━━━\u001b[0m\u001b[37m\u001b[0m \u001b[1m0s\u001b[0m 72ms/step - loss: 14.3355 - mae: 3.7217 - val_loss: 18.8730 - val_mae: 4.3137\n",
            "Epoch 14/20\n",
            "\u001b[1m1/1\u001b[0m \u001b[32m━━━━━━━━━━━━━━━━━━━━\u001b[0m\u001b[37m\u001b[0m \u001b[1m0s\u001b[0m 134ms/step - loss: 14.0716 - mae: 3.6864 - val_loss: 18.7320 - val_mae: 4.2973\n",
            "Epoch 15/20\n",
            "\u001b[1m1/1\u001b[0m \u001b[32m━━━━━━━━━━━━━━━━━━━━\u001b[0m\u001b[37m\u001b[0m \u001b[1m0s\u001b[0m 77ms/step - loss: 13.7905 - mae: 3.6485 - val_loss: 18.5847 - val_mae: 4.2801\n",
            "Epoch 16/20\n",
            "\u001b[1m1/1\u001b[0m \u001b[32m━━━━━━━━━━━━━━━━━━━━\u001b[0m\u001b[37m\u001b[0m \u001b[1m0s\u001b[0m 75ms/step - loss: 13.4899 - mae: 3.6076 - val_loss: 18.4323 - val_mae: 4.2623\n",
            "Epoch 17/20\n",
            "\u001b[1m1/1\u001b[0m \u001b[32m━━━━━━━━━━━━━━━━━━━━\u001b[0m\u001b[37m\u001b[0m \u001b[1m0s\u001b[0m 144ms/step - loss: 13.1672 - mae: 3.5632 - val_loss: 18.2700 - val_mae: 4.2432\n",
            "Epoch 18/20\n",
            "\u001b[1m1/1\u001b[0m \u001b[32m━━━━━━━━━━━━━━━━━━━━\u001b[0m\u001b[37m\u001b[0m \u001b[1m0s\u001b[0m 143ms/step - loss: 12.8203 - mae: 3.5148 - val_loss: 18.1004 - val_mae: 4.2232\n",
            "Epoch 19/20\n",
            "\u001b[1m1/1\u001b[0m \u001b[32m━━━━━━━━━━━━━━━━━━━━\u001b[0m\u001b[37m\u001b[0m \u001b[1m0s\u001b[0m 78ms/step - loss: 12.4461 - mae: 3.4620 - val_loss: 17.9222 - val_mae: 4.2021\n",
            "Epoch 20/20\n",
            "\u001b[1m1/1\u001b[0m \u001b[32m━━━━━━━━━━━━━━━━━━━━\u001b[0m\u001b[37m\u001b[0m \u001b[1m0s\u001b[0m 72ms/step - loss: 12.0450 - mae: 3.4044 - val_loss: 17.7353 - val_mae: 4.1799\n"
          ]
        },
        {
          "output_type": "display_data",
          "data": {
            "text/plain": [
              "<Figure size 640x480 with 1 Axes>"
            ],
            "image/png": "[encoded data removed]"
          },
          "metadata": {}
        },
        {
          "output_type": "stream",
          "name": "stdout",
          "text": [
            "\u001b[1m1/1\u001b[0m \u001b[32m━━━━━━━━━━━━━━━━━━━━\u001b[0m\u001b[37m\u001b[0m \u001b[1m0s\u001b[0m 290ms/step\n"
          ]
        },
        {
          "output_type": "stream",
          "name": "stderr",
          "text": [
            "WARNING:absl:You are saving your model as an HDF5 file via `model.save()` or `keras.saving.save_model(model)`. This file format is considered legacy. We recommend using instead the native Keras format, e.g. `model.save('my_model.keras')` or `keras.saving.save_model(model, 'my_model.keras')`. \n"
          ]
        },
        {
          "output_type": "stream",
          "name": "stdout",
          "text": [
            "⭐ Prediksi rating user 1 (encoded: 0) ke item T001 (encoded: 0): 0.33\n",
            "✅ Model & encoder disimpan.\n"
          ]
        }
      ]
    },
    {
      "cell_type": "code",
      "execution_count": null,
      "metadata": {
        "id": "6iPf6PQwfM5x"
      },
      "outputs": [],
      "source": [
        "from IPython.display import Image as IPyImage, display\n",
        "\n",
        "kategori = \"souvenir\"\n",
        "jumlah = 5\n",
        "\n",
        "subset = df_img[df_img['label'] == kategori].head(5)\n",
        "\n",
        "# Tampilkan gambar\n",
        "print(f\"🖼️ Menampilkan {5} gambar pertama untuk kategori: '{souvenir}'\")\n",
        "\n",
        "for idx, row in subset.iterrows():\n",
        "    print(f\"\\n📌 Nama Gambar: {row['image_name']}\")\n",
        "    print(f\"🗂️ Path: {row['image_path']}\")\n",
        "    print(f\"🏷️ Label: {row['label']}\")\n",
        "    display(IPyImage(filename=row['image_path']))\n"
      ]
    },
    {
      "cell_type": "code",
      "metadata": {
        "colab": {
          "base_uri": "https://localhost:8080/"
        },
        "id": "64acf92d",
        "outputId": "b2762f2e-e4c3-40b3-9a16-e9a7d84e27ae"
      },
      "source": [
        "import os\n",
        "print(os.listdir())"
      ],
      "execution_count": null,
      "outputs": [
        {
          "output_type": "stream",
          "name": "stdout",
          "text": [
            "['.config', 'model_ncf_rekomendasi.h5', 'best_model_vgg16.h5', 'user_encoder.pkl', 'item_encoder.pkl', 'drive', 'sample_data']\n"
          ]
        }
      ]
    },
    {
      "cell_type": "code",
      "metadata": {
        "colab": {
          "base_uri": "https://localhost:8080/"
        },
        "id": "2cbea410",
        "outputId": "9dfe613c-df77-4a88-f7a2-44621393adba"
      },
      "source": [
        "import numpy as np\n",
        "import pandas as pd\n",
        "from sklearn.preprocessing import LabelEncoder\n",
        "import joblib # Import joblib to save the label encoder\n",
        "\n",
        "# --- Bagian 1: Simulasi hasil ekstraksi (ganti dengan hasil aslimu)\n",
        "# Contoh dummy (kalau kamu udah punya hasil asli, tinggal ganti bagian ini)\n",
        "# Misal hasil ekstraksi pakai model pretrained -> shape (244434, 512)\n",
        "# dan label string seperti 'souvenir', 'oleh_oleh'\n",
        "\n",
        "# Ganti ini dengan hasil ekstraksi asli\n",
        "features = np.random.rand(1000, 512)  # Contoh 1000 gambar, 512 fitur\n",
        "# Keep original string labels here for fitting the encoder\n",
        "original_labels = np.random.choice(['souvenir', 'oleh_oleh'], 1000)\n",
        "\n",
        "# --- Bagian 2: Encoding label jadi angka (jika belum)\n",
        "le = LabelEncoder()\n",
        "# Fit the label encoder on the original string labels\n",
        "labels_encoded = le.fit_transform(original_labels)\n",
        "\n",
        "# Explicitly convert labels to integer type for XGBoost\n",
        "labels_encoded = labels_encoded.astype(int)\n",
        "\n",
        "# Save the fitted label encoder\n",
        "joblib.dump(le, 'label_encoder.pkl')\n",
        "print(\"✅ Label encoder berhasil disimpan.\")\n",
        "print(f\"Content of le.classes_ after fitting: {le.classes_}\") # Print to verify\n",
        "\n",
        "\n",
        "# --- Bagian 3: Simpan ke file .npz\n",
        "# Save the encoded labels in the npz file\n",
        "np.savez('fitur_dan_label.npz', features=features, labels=labels_encoded)\n",
        "print(\"✅ Disimpan ke 'fitur_dan_label.npz'\")\n",
        "\n",
        "# --- Bagian 4: Simpan ke CSV juga (opsional)\n",
        "df = pd.DataFrame(features)\n",
        "df['label'] = labels_encoded # Save encoded labels in CSV\n",
        "df.to_csv('fitur_dan_label.csv', index=False)\n",
        "print(\"✅ Disimpan juga ke 'fitur_dan_label.csv'\")\n",
        "\n",
        "# --- Bonus: Load ulang data dari file .npz\n",
        "print(\"\\n🔄 Contoh load ulang data:\")\n",
        "data = np.load('fitur_dan_label.npz')\n",
        "features_loaded = data['features']\n",
        "labels_loaded = data['labels']\n",
        "\n",
        "print(\"📂 Fitur shape:\", features_loaded.shape)\n",
        "print(\"📂 Label shape:\", labels_loaded.shape)\n",
        "print(\"📂 Label dtype:\", labels_loaded.dtype)"
      ],
      "execution_count": null,
      "outputs": [
        {
          "output_type": "stream",
          "name": "stdout",
          "text": [
            "✅ Label encoder berhasil disimpan.\n",
            "Content of le.classes_ after fitting: ['oleh_oleh' 'souvenir']\n",
            "✅ Disimpan ke 'fitur_dan_label.npz'\n",
            "✅ Disimpan juga ke 'fitur_dan_label.csv'\n",
            "\n",
            "🔄 Contoh load ulang data:\n",
            "📂 Fitur shape: (1000, 512)\n",
            "📂 Label shape: (1000,)\n",
            "📂 Label dtype: int64\n"
          ]
        }
      ]
    },
    {
      "cell_type": "code",
      "metadata": {
        "colab": {
          "base_uri": "https://localhost:8080/"
        },
        "id": "1eb7ba66",
        "outputId": "02378d23-4627-4803-85ae-f311dc047e18"
      },
      "source": [
        "# =====================================\n",
        "# CEK DAN LOAD FITUR + LABEL\n",
        "# =====================================\n",
        "\n",
        "import numpy as np\n",
        "import os\n",
        "\n",
        "# Ganti path ini sesuai lokasi file sebenarnya\n",
        "default_path = \"fitur_dan_label.npz\"\n",
        "# gdrive_path = \"/content/drive/MyDrive/fitur_dan_label.npz\" # Removed Google Drive path\n",
        "\n",
        "# Cek apakah file tersedia\n",
        "if os.path.exists(default_path):\n",
        "    path_to_load = default_path\n",
        "# elif os.path.exists(gdrive_path): # Removed Google Drive path check\n",
        "#     path_to_load = gdrive_path\n",
        "else:\n",
        "    raise FileNotFoundError(f\"❌ File '{default_path}' tidak ditemukan di direktori lokal.\")\n",
        "\n",
        "print(f\"📦 Loading data dari: {path_to_load}\")\n",
        "data = np.load(path_to_load)\n",
        "X = data['features']\n",
        "y = data['labels']\n",
        "print(f\"✅ Loaded! Fitur shape: {X.shape}, Label shape: {y.shape}\")"
      ],
      "execution_count": null,
      "outputs": [
        {
          "output_type": "stream",
          "name": "stdout",
          "text": [
            "📦 Loading data dari: fitur_dan_label.npz\n",
            "✅ Loaded! Fitur shape: (1000, 512), Label shape: (1000,)\n"
          ]
        }
      ]
    }
  ],
  "metadata": {
    "colab": {
      "provenance": [],
      "gpuType": "T4"
    },
    "kernelspec": {
      "display_name": "Python 3",
      "name": "python3"
    },
    "language_info": {
      "name": "python"
    },
    "accelerator": "GPU"
  },
  "nbformat": 4,
  "nbformat_minor": 0
}